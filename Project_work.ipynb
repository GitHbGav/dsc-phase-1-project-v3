{
 "cells": [
  {
   "cell_type": "code",
   "execution_count": 1,
   "metadata": {},
   "outputs": [
    {
     "name": "stdout",
     "output_type": "stream",
     "text": [
      "CONTRIBUTING.md\n",
      "INFO.md\n",
      "LICENSE.md\n",
      "Project_work.ipynb\n",
      "README.md\n",
      "data\n",
      "example_dashboard.png\n",
      "student.ipynb\n"
     ]
    }
   ],
   "source": [
    "!ls"
   ]
  },
  {
   "cell_type": "code",
   "execution_count": 2,
   "metadata": {},
   "outputs": [],
   "source": [
    "import pandas as pd\n",
    "import numpy as np\n",
    "\n",
    "import matplotlib.pyplot as plt\n",
    "import seaborn as sns\n"
   ]
  },
  {
   "cell_type": "code",
   "execution_count": 3,
   "metadata": {},
   "outputs": [],
   "source": [
    "df = pd.read_csv('data/Aviation_data.csv', encoding = 'ISO-8859-1', low_memory = False)"
   ]
  },
  {
   "cell_type": "code",
   "execution_count": 4,
   "metadata": {},
   "outputs": [
    {
     "data": {
      "text/html": [
       "<div>\n",
       "<style scoped>\n",
       "    .dataframe tbody tr th:only-of-type {\n",
       "        vertical-align: middle;\n",
       "    }\n",
       "\n",
       "    .dataframe tbody tr th {\n",
       "        vertical-align: top;\n",
       "    }\n",
       "\n",
       "    .dataframe thead th {\n",
       "        text-align: right;\n",
       "    }\n",
       "</style>\n",
       "<table border=\"1\" class=\"dataframe\">\n",
       "  <thead>\n",
       "    <tr style=\"text-align: right;\">\n",
       "      <th></th>\n",
       "      <th>Event.Id</th>\n",
       "      <th>Investigation.Type</th>\n",
       "      <th>Accident.Number</th>\n",
       "      <th>Event.Date</th>\n",
       "      <th>Location</th>\n",
       "      <th>Country</th>\n",
       "      <th>Latitude</th>\n",
       "      <th>Longitude</th>\n",
       "      <th>Airport.Code</th>\n",
       "      <th>Airport.Name</th>\n",
       "      <th>...</th>\n",
       "      <th>Purpose.of.flight</th>\n",
       "      <th>Air.carrier</th>\n",
       "      <th>Total.Fatal.Injuries</th>\n",
       "      <th>Total.Serious.Injuries</th>\n",
       "      <th>Total.Minor.Injuries</th>\n",
       "      <th>Total.Uninjured</th>\n",
       "      <th>Weather.Condition</th>\n",
       "      <th>Broad.phase.of.flight</th>\n",
       "      <th>Report.Status</th>\n",
       "      <th>Publication.Date</th>\n",
       "    </tr>\n",
       "  </thead>\n",
       "  <tbody>\n",
       "    <tr>\n",
       "      <th>0</th>\n",
       "      <td>20001218X45444</td>\n",
       "      <td>Accident</td>\n",
       "      <td>SEA87LA080</td>\n",
       "      <td>1948-10-24</td>\n",
       "      <td>MOOSE CREEK, ID</td>\n",
       "      <td>United States</td>\n",
       "      <td>NaN</td>\n",
       "      <td>NaN</td>\n",
       "      <td>NaN</td>\n",
       "      <td>NaN</td>\n",
       "      <td>...</td>\n",
       "      <td>Personal</td>\n",
       "      <td>NaN</td>\n",
       "      <td>2.0</td>\n",
       "      <td>0.0</td>\n",
       "      <td>0.0</td>\n",
       "      <td>0.0</td>\n",
       "      <td>UNK</td>\n",
       "      <td>Cruise</td>\n",
       "      <td>Probable Cause</td>\n",
       "      <td>NaN</td>\n",
       "    </tr>\n",
       "    <tr>\n",
       "      <th>1</th>\n",
       "      <td>20001218X45447</td>\n",
       "      <td>Accident</td>\n",
       "      <td>LAX94LA336</td>\n",
       "      <td>1962-07-19</td>\n",
       "      <td>BRIDGEPORT, CA</td>\n",
       "      <td>United States</td>\n",
       "      <td>NaN</td>\n",
       "      <td>NaN</td>\n",
       "      <td>NaN</td>\n",
       "      <td>NaN</td>\n",
       "      <td>...</td>\n",
       "      <td>Personal</td>\n",
       "      <td>NaN</td>\n",
       "      <td>4.0</td>\n",
       "      <td>0.0</td>\n",
       "      <td>0.0</td>\n",
       "      <td>0.0</td>\n",
       "      <td>UNK</td>\n",
       "      <td>Unknown</td>\n",
       "      <td>Probable Cause</td>\n",
       "      <td>19-09-1996</td>\n",
       "    </tr>\n",
       "    <tr>\n",
       "      <th>2</th>\n",
       "      <td>20061025X01555</td>\n",
       "      <td>Accident</td>\n",
       "      <td>NYC07LA005</td>\n",
       "      <td>1974-08-30</td>\n",
       "      <td>Saltville, VA</td>\n",
       "      <td>United States</td>\n",
       "      <td>36.922223</td>\n",
       "      <td>-81.878056</td>\n",
       "      <td>NaN</td>\n",
       "      <td>NaN</td>\n",
       "      <td>...</td>\n",
       "      <td>Personal</td>\n",
       "      <td>NaN</td>\n",
       "      <td>3.0</td>\n",
       "      <td>NaN</td>\n",
       "      <td>NaN</td>\n",
       "      <td>NaN</td>\n",
       "      <td>IMC</td>\n",
       "      <td>Cruise</td>\n",
       "      <td>Probable Cause</td>\n",
       "      <td>26-02-2007</td>\n",
       "    </tr>\n",
       "    <tr>\n",
       "      <th>3</th>\n",
       "      <td>20001218X45448</td>\n",
       "      <td>Accident</td>\n",
       "      <td>LAX96LA321</td>\n",
       "      <td>1977-06-19</td>\n",
       "      <td>EUREKA, CA</td>\n",
       "      <td>United States</td>\n",
       "      <td>NaN</td>\n",
       "      <td>NaN</td>\n",
       "      <td>NaN</td>\n",
       "      <td>NaN</td>\n",
       "      <td>...</td>\n",
       "      <td>Personal</td>\n",
       "      <td>NaN</td>\n",
       "      <td>2.0</td>\n",
       "      <td>0.0</td>\n",
       "      <td>0.0</td>\n",
       "      <td>0.0</td>\n",
       "      <td>IMC</td>\n",
       "      <td>Cruise</td>\n",
       "      <td>Probable Cause</td>\n",
       "      <td>12-09-2000</td>\n",
       "    </tr>\n",
       "    <tr>\n",
       "      <th>4</th>\n",
       "      <td>20041105X01764</td>\n",
       "      <td>Accident</td>\n",
       "      <td>CHI79FA064</td>\n",
       "      <td>1979-08-02</td>\n",
       "      <td>Canton, OH</td>\n",
       "      <td>United States</td>\n",
       "      <td>NaN</td>\n",
       "      <td>NaN</td>\n",
       "      <td>NaN</td>\n",
       "      <td>NaN</td>\n",
       "      <td>...</td>\n",
       "      <td>Personal</td>\n",
       "      <td>NaN</td>\n",
       "      <td>1.0</td>\n",
       "      <td>2.0</td>\n",
       "      <td>NaN</td>\n",
       "      <td>0.0</td>\n",
       "      <td>VMC</td>\n",
       "      <td>Approach</td>\n",
       "      <td>Probable Cause</td>\n",
       "      <td>16-04-1980</td>\n",
       "    </tr>\n",
       "  </tbody>\n",
       "</table>\n",
       "<p>5 rows × 31 columns</p>\n",
       "</div>"
      ],
      "text/plain": [
       "         Event.Id Investigation.Type Accident.Number  Event.Date  \\\n",
       "0  20001218X45444           Accident      SEA87LA080  1948-10-24   \n",
       "1  20001218X45447           Accident      LAX94LA336  1962-07-19   \n",
       "2  20061025X01555           Accident      NYC07LA005  1974-08-30   \n",
       "3  20001218X45448           Accident      LAX96LA321  1977-06-19   \n",
       "4  20041105X01764           Accident      CHI79FA064  1979-08-02   \n",
       "\n",
       "          Location        Country   Latitude   Longitude Airport.Code  \\\n",
       "0  MOOSE CREEK, ID  United States        NaN         NaN          NaN   \n",
       "1   BRIDGEPORT, CA  United States        NaN         NaN          NaN   \n",
       "2    Saltville, VA  United States  36.922223  -81.878056          NaN   \n",
       "3       EUREKA, CA  United States        NaN         NaN          NaN   \n",
       "4       Canton, OH  United States        NaN         NaN          NaN   \n",
       "\n",
       "  Airport.Name  ... Purpose.of.flight Air.carrier Total.Fatal.Injuries  \\\n",
       "0          NaN  ...          Personal         NaN                  2.0   \n",
       "1          NaN  ...          Personal         NaN                  4.0   \n",
       "2          NaN  ...          Personal         NaN                  3.0   \n",
       "3          NaN  ...          Personal         NaN                  2.0   \n",
       "4          NaN  ...          Personal         NaN                  1.0   \n",
       "\n",
       "  Total.Serious.Injuries Total.Minor.Injuries Total.Uninjured  \\\n",
       "0                    0.0                  0.0             0.0   \n",
       "1                    0.0                  0.0             0.0   \n",
       "2                    NaN                  NaN             NaN   \n",
       "3                    0.0                  0.0             0.0   \n",
       "4                    2.0                  NaN             0.0   \n",
       "\n",
       "  Weather.Condition  Broad.phase.of.flight   Report.Status Publication.Date  \n",
       "0               UNK                 Cruise  Probable Cause              NaN  \n",
       "1               UNK                Unknown  Probable Cause       19-09-1996  \n",
       "2               IMC                 Cruise  Probable Cause       26-02-2007  \n",
       "3               IMC                 Cruise  Probable Cause       12-09-2000  \n",
       "4               VMC               Approach  Probable Cause       16-04-1980  \n",
       "\n",
       "[5 rows x 31 columns]"
      ]
     },
     "execution_count": 4,
     "metadata": {},
     "output_type": "execute_result"
    }
   ],
   "source": [
    "df.head()"
   ]
  },
  {
   "cell_type": "code",
   "execution_count": 5,
   "metadata": {},
   "outputs": [
    {
     "name": "stdout",
     "output_type": "stream",
     "text": [
      "<class 'pandas.core.frame.DataFrame'>\n",
      "RangeIndex: 90348 entries, 0 to 90347\n",
      "Data columns (total 31 columns):\n",
      " #   Column                  Non-Null Count  Dtype  \n",
      "---  ------                  --------------  -----  \n",
      " 0   Event.Id                88889 non-null  object \n",
      " 1   Investigation.Type      90348 non-null  object \n",
      " 2   Accident.Number         88889 non-null  object \n",
      " 3   Event.Date              88889 non-null  object \n",
      " 4   Location                88837 non-null  object \n",
      " 5   Country                 88663 non-null  object \n",
      " 6   Latitude                34382 non-null  object \n",
      " 7   Longitude               34373 non-null  object \n",
      " 8   Airport.Code            50249 non-null  object \n",
      " 9   Airport.Name            52790 non-null  object \n",
      " 10  Injury.Severity         87889 non-null  object \n",
      " 11  Aircraft.damage         85695 non-null  object \n",
      " 12  Aircraft.Category       32287 non-null  object \n",
      " 13  Registration.Number     87572 non-null  object \n",
      " 14  Make                    88826 non-null  object \n",
      " 15  Model                   88797 non-null  object \n",
      " 16  Amateur.Built           88787 non-null  object \n",
      " 17  Number.of.Engines       82805 non-null  float64\n",
      " 18  Engine.Type             81812 non-null  object \n",
      " 19  FAR.Description         32023 non-null  object \n",
      " 20  Schedule                12582 non-null  object \n",
      " 21  Purpose.of.flight       82697 non-null  object \n",
      " 22  Air.carrier             16648 non-null  object \n",
      " 23  Total.Fatal.Injuries    77488 non-null  float64\n",
      " 24  Total.Serious.Injuries  76379 non-null  float64\n",
      " 25  Total.Minor.Injuries    76956 non-null  float64\n",
      " 26  Total.Uninjured         82977 non-null  float64\n",
      " 27  Weather.Condition       84397 non-null  object \n",
      " 28  Broad.phase.of.flight   61724 non-null  object \n",
      " 29  Report.Status           82508 non-null  object \n",
      " 30  Publication.Date        73659 non-null  object \n",
      "dtypes: float64(5), object(26)\n",
      "memory usage: 21.4+ MB\n"
     ]
    }
   ],
   "source": [
    "df.info()"
   ]
  },
  {
   "cell_type": "code",
   "execution_count": 6,
   "metadata": {},
   "outputs": [
    {
     "data": {
      "text/plain": [
       "Substantial    64148\n",
       "Destroyed      18623\n",
       "Minor           2805\n",
       "Unknown          119\n",
       "Name: Aircraft.damage, dtype: int64"
      ]
     },
     "execution_count": 6,
     "metadata": {},
     "output_type": "execute_result"
    }
   ],
   "source": [
    "df['Aircraft.damage'].value_counts()"
   ]
  },
  {
   "cell_type": "code",
   "execution_count": 7,
   "metadata": {},
   "outputs": [
    {
     "data": {
      "text/plain": [
       "Airplane             27617\n",
       "Helicopter            3440\n",
       "Glider                 508\n",
       "Balloon                231\n",
       "Gyrocraft              173\n",
       "Weight-Shift           161\n",
       "Powered Parachute       91\n",
       "Ultralight              30\n",
       "Unknown                 14\n",
       "WSFT                     9\n",
       "Powered-Lift             5\n",
       "Blimp                    4\n",
       "UNK                      2\n",
       "Rocket                   1\n",
       "ULTR                     1\n",
       "Name: Aircraft.Category, dtype: int64"
      ]
     },
     "execution_count": 7,
     "metadata": {},
     "output_type": "execute_result"
    }
   ],
   "source": [
    "df['Aircraft.Category'].value_counts()"
   ]
  },
  {
   "cell_type": "code",
   "execution_count": 8,
   "metadata": {},
   "outputs": [],
   "source": [
    "df_aircraft = df.loc[df['Aircraft.Category']=='Airplane']"
   ]
  },
  {
   "cell_type": "code",
   "execution_count": 9,
   "metadata": {
    "scrolled": true
   },
   "outputs": [
    {
     "data": {
      "text/html": [
       "<div>\n",
       "<style scoped>\n",
       "    .dataframe tbody tr th:only-of-type {\n",
       "        vertical-align: middle;\n",
       "    }\n",
       "\n",
       "    .dataframe tbody tr th {\n",
       "        vertical-align: top;\n",
       "    }\n",
       "\n",
       "    .dataframe thead th {\n",
       "        text-align: right;\n",
       "    }\n",
       "</style>\n",
       "<table border=\"1\" class=\"dataframe\">\n",
       "  <thead>\n",
       "    <tr style=\"text-align: right;\">\n",
       "      <th></th>\n",
       "      <th>Event.Id</th>\n",
       "      <th>Investigation.Type</th>\n",
       "      <th>Accident.Number</th>\n",
       "      <th>Event.Date</th>\n",
       "      <th>Location</th>\n",
       "      <th>Country</th>\n",
       "      <th>Latitude</th>\n",
       "      <th>Longitude</th>\n",
       "      <th>Airport.Code</th>\n",
       "      <th>Airport.Name</th>\n",
       "      <th>...</th>\n",
       "      <th>Purpose.of.flight</th>\n",
       "      <th>Air.carrier</th>\n",
       "      <th>Total.Fatal.Injuries</th>\n",
       "      <th>Total.Serious.Injuries</th>\n",
       "      <th>Total.Minor.Injuries</th>\n",
       "      <th>Total.Uninjured</th>\n",
       "      <th>Weather.Condition</th>\n",
       "      <th>Broad.phase.of.flight</th>\n",
       "      <th>Report.Status</th>\n",
       "      <th>Publication.Date</th>\n",
       "    </tr>\n",
       "  </thead>\n",
       "  <tbody>\n",
       "    <tr>\n",
       "      <th>5</th>\n",
       "      <td>20170710X52551</td>\n",
       "      <td>Accident</td>\n",
       "      <td>NYC79AA106</td>\n",
       "      <td>1979-09-17</td>\n",
       "      <td>BOSTON, MA</td>\n",
       "      <td>United States</td>\n",
       "      <td>42.445277</td>\n",
       "      <td>-70.758333</td>\n",
       "      <td>NaN</td>\n",
       "      <td>NaN</td>\n",
       "      <td>...</td>\n",
       "      <td>NaN</td>\n",
       "      <td>Air Canada</td>\n",
       "      <td>NaN</td>\n",
       "      <td>NaN</td>\n",
       "      <td>1.0</td>\n",
       "      <td>44.0</td>\n",
       "      <td>VMC</td>\n",
       "      <td>Climb</td>\n",
       "      <td>Probable Cause</td>\n",
       "      <td>19-09-2017</td>\n",
       "    </tr>\n",
       "    <tr>\n",
       "      <th>7</th>\n",
       "      <td>20020909X01562</td>\n",
       "      <td>Accident</td>\n",
       "      <td>SEA82DA022</td>\n",
       "      <td>1982-01-01</td>\n",
       "      <td>PULLMAN, WA</td>\n",
       "      <td>United States</td>\n",
       "      <td>NaN</td>\n",
       "      <td>NaN</td>\n",
       "      <td>NaN</td>\n",
       "      <td>BLACKBURN AG STRIP</td>\n",
       "      <td>...</td>\n",
       "      <td>Personal</td>\n",
       "      <td>NaN</td>\n",
       "      <td>0.0</td>\n",
       "      <td>0.0</td>\n",
       "      <td>0.0</td>\n",
       "      <td>2.0</td>\n",
       "      <td>VMC</td>\n",
       "      <td>Takeoff</td>\n",
       "      <td>Probable Cause</td>\n",
       "      <td>01-01-1982</td>\n",
       "    </tr>\n",
       "    <tr>\n",
       "      <th>8</th>\n",
       "      <td>20020909X01561</td>\n",
       "      <td>Accident</td>\n",
       "      <td>NYC82DA015</td>\n",
       "      <td>1982-01-01</td>\n",
       "      <td>EAST HANOVER, NJ</td>\n",
       "      <td>United States</td>\n",
       "      <td>NaN</td>\n",
       "      <td>NaN</td>\n",
       "      <td>N58</td>\n",
       "      <td>HANOVER</td>\n",
       "      <td>...</td>\n",
       "      <td>Business</td>\n",
       "      <td>NaN</td>\n",
       "      <td>0.0</td>\n",
       "      <td>0.0</td>\n",
       "      <td>0.0</td>\n",
       "      <td>2.0</td>\n",
       "      <td>IMC</td>\n",
       "      <td>Landing</td>\n",
       "      <td>Probable Cause</td>\n",
       "      <td>01-01-1982</td>\n",
       "    </tr>\n",
       "    <tr>\n",
       "      <th>12</th>\n",
       "      <td>20020917X02148</td>\n",
       "      <td>Accident</td>\n",
       "      <td>FTW82FRJ07</td>\n",
       "      <td>1982-01-02</td>\n",
       "      <td>HOMER, LA</td>\n",
       "      <td>United States</td>\n",
       "      <td>NaN</td>\n",
       "      <td>NaN</td>\n",
       "      <td>NaN</td>\n",
       "      <td>NaN</td>\n",
       "      <td>...</td>\n",
       "      <td>Personal</td>\n",
       "      <td>NaN</td>\n",
       "      <td>0.0</td>\n",
       "      <td>0.0</td>\n",
       "      <td>1.0</td>\n",
       "      <td>0.0</td>\n",
       "      <td>IMC</td>\n",
       "      <td>Cruise</td>\n",
       "      <td>Probable Cause</td>\n",
       "      <td>02-01-1983</td>\n",
       "    </tr>\n",
       "    <tr>\n",
       "      <th>13</th>\n",
       "      <td>20020917X02134</td>\n",
       "      <td>Accident</td>\n",
       "      <td>FTW82FRA14</td>\n",
       "      <td>1982-01-02</td>\n",
       "      <td>HEARNE, TX</td>\n",
       "      <td>United States</td>\n",
       "      <td>NaN</td>\n",
       "      <td>NaN</td>\n",
       "      <td>T72</td>\n",
       "      <td>HEARNE MUNICIPAL</td>\n",
       "      <td>...</td>\n",
       "      <td>Personal</td>\n",
       "      <td>NaN</td>\n",
       "      <td>1.0</td>\n",
       "      <td>0.0</td>\n",
       "      <td>0.0</td>\n",
       "      <td>0.0</td>\n",
       "      <td>IMC</td>\n",
       "      <td>Takeoff</td>\n",
       "      <td>Probable Cause</td>\n",
       "      <td>02-01-1983</td>\n",
       "    </tr>\n",
       "  </tbody>\n",
       "</table>\n",
       "<p>5 rows × 31 columns</p>\n",
       "</div>"
      ],
      "text/plain": [
       "          Event.Id Investigation.Type Accident.Number  Event.Date  \\\n",
       "5   20170710X52551           Accident      NYC79AA106  1979-09-17   \n",
       "7   20020909X01562           Accident      SEA82DA022  1982-01-01   \n",
       "8   20020909X01561           Accident      NYC82DA015  1982-01-01   \n",
       "12  20020917X02148           Accident      FTW82FRJ07  1982-01-02   \n",
       "13  20020917X02134           Accident      FTW82FRA14  1982-01-02   \n",
       "\n",
       "            Location        Country   Latitude   Longitude Airport.Code  \\\n",
       "5         BOSTON, MA  United States  42.445277  -70.758333          NaN   \n",
       "7        PULLMAN, WA  United States        NaN         NaN          NaN   \n",
       "8   EAST HANOVER, NJ  United States        NaN         NaN          N58   \n",
       "12         HOMER, LA  United States        NaN         NaN          NaN   \n",
       "13        HEARNE, TX  United States        NaN         NaN          T72   \n",
       "\n",
       "          Airport.Name  ... Purpose.of.flight Air.carrier  \\\n",
       "5                  NaN  ...               NaN  Air Canada   \n",
       "7   BLACKBURN AG STRIP  ...          Personal         NaN   \n",
       "8              HANOVER  ...          Business         NaN   \n",
       "12                 NaN  ...          Personal         NaN   \n",
       "13    HEARNE MUNICIPAL  ...          Personal         NaN   \n",
       "\n",
       "   Total.Fatal.Injuries Total.Serious.Injuries Total.Minor.Injuries  \\\n",
       "5                   NaN                    NaN                  1.0   \n",
       "7                   0.0                    0.0                  0.0   \n",
       "8                   0.0                    0.0                  0.0   \n",
       "12                  0.0                    0.0                  1.0   \n",
       "13                  1.0                    0.0                  0.0   \n",
       "\n",
       "   Total.Uninjured Weather.Condition  Broad.phase.of.flight   Report.Status  \\\n",
       "5             44.0               VMC                  Climb  Probable Cause   \n",
       "7              2.0               VMC                Takeoff  Probable Cause   \n",
       "8              2.0               IMC                Landing  Probable Cause   \n",
       "12             0.0               IMC                 Cruise  Probable Cause   \n",
       "13             0.0               IMC                Takeoff  Probable Cause   \n",
       "\n",
       "   Publication.Date  \n",
       "5        19-09-2017  \n",
       "7        01-01-1982  \n",
       "8        01-01-1982  \n",
       "12       02-01-1983  \n",
       "13       02-01-1983  \n",
       "\n",
       "[5 rows x 31 columns]"
      ]
     },
     "execution_count": 9,
     "metadata": {},
     "output_type": "execute_result"
    }
   ],
   "source": [
    "df_aircraft.head()"
   ]
  },
  {
   "cell_type": "code",
   "execution_count": 10,
   "metadata": {},
   "outputs": [
    {
     "data": {
      "text/plain": [
       "Airplane    27617\n",
       "Name: Aircraft.Category, dtype: int64"
      ]
     },
     "execution_count": 10,
     "metadata": {},
     "output_type": "execute_result"
    }
   ],
   "source": [
    "df_aircraft['Aircraft.Category'].value_counts()"
   ]
  },
  {
   "cell_type": "code",
   "execution_count": 11,
   "metadata": {},
   "outputs": [
    {
     "data": {
      "text/plain": [
       "Event.Id                      0\n",
       "Investigation.Type            0\n",
       "Accident.Number               0\n",
       "Event.Date                    0\n",
       "Location                      7\n",
       "Country                       7\n",
       "Latitude                   5525\n",
       "Longitude                  5534\n",
       "Airport.Code               9844\n",
       "Airport.Name               9361\n",
       "Injury.Severity             814\n",
       "Aircraft.damage            1282\n",
       "Aircraft.Category             0\n",
       "Registration.Number         226\n",
       "Make                          9\n",
       "Model                        31\n",
       "Amateur.Built                17\n",
       "Number.of.Engines          2754\n",
       "Engine.Type                4226\n",
       "FAR.Description             499\n",
       "Schedule                  24627\n",
       "Purpose.of.flight          3739\n",
       "Air.carrier               16350\n",
       "Total.Fatal.Injuries       3165\n",
       "Total.Serious.Injuries     3224\n",
       "Total.Minor.Injuries       2878\n",
       "Total.Uninjured             900\n",
       "Weather.Condition          3053\n",
       "Broad.phase.of.flight     21209\n",
       "Report.Status              4971\n",
       "Publication.Date           2240\n",
       "dtype: int64"
      ]
     },
     "execution_count": 11,
     "metadata": {},
     "output_type": "execute_result"
    }
   ],
   "source": [
    "df_aircraft.isna().sum()"
   ]
  },
  {
   "cell_type": "code",
   "execution_count": 12,
   "metadata": {},
   "outputs": [],
   "source": [
    "df_aircraft_clean = df_aircraft.dropna(subset=['Model', 'Make'])\n"
   ]
  },
  {
   "cell_type": "code",
   "execution_count": 13,
   "metadata": {
    "scrolled": true
   },
   "outputs": [
    {
     "data": {
      "text/html": [
       "<div>\n",
       "<style scoped>\n",
       "    .dataframe tbody tr th:only-of-type {\n",
       "        vertical-align: middle;\n",
       "    }\n",
       "\n",
       "    .dataframe tbody tr th {\n",
       "        vertical-align: top;\n",
       "    }\n",
       "\n",
       "    .dataframe thead th {\n",
       "        text-align: right;\n",
       "    }\n",
       "</style>\n",
       "<table border=\"1\" class=\"dataframe\">\n",
       "  <thead>\n",
       "    <tr style=\"text-align: right;\">\n",
       "      <th></th>\n",
       "      <th>Event.Id</th>\n",
       "      <th>Investigation.Type</th>\n",
       "      <th>Accident.Number</th>\n",
       "      <th>Event.Date</th>\n",
       "      <th>Location</th>\n",
       "      <th>Country</th>\n",
       "      <th>Latitude</th>\n",
       "      <th>Longitude</th>\n",
       "      <th>Airport.Code</th>\n",
       "      <th>Airport.Name</th>\n",
       "      <th>...</th>\n",
       "      <th>Purpose.of.flight</th>\n",
       "      <th>Air.carrier</th>\n",
       "      <th>Total.Fatal.Injuries</th>\n",
       "      <th>Total.Serious.Injuries</th>\n",
       "      <th>Total.Minor.Injuries</th>\n",
       "      <th>Total.Uninjured</th>\n",
       "      <th>Weather.Condition</th>\n",
       "      <th>Broad.phase.of.flight</th>\n",
       "      <th>Report.Status</th>\n",
       "      <th>Publication.Date</th>\n",
       "    </tr>\n",
       "  </thead>\n",
       "  <tbody>\n",
       "    <tr>\n",
       "      <th>5</th>\n",
       "      <td>20170710X52551</td>\n",
       "      <td>Accident</td>\n",
       "      <td>NYC79AA106</td>\n",
       "      <td>1979-09-17</td>\n",
       "      <td>BOSTON, MA</td>\n",
       "      <td>United States</td>\n",
       "      <td>42.445277</td>\n",
       "      <td>-70.758333</td>\n",
       "      <td>NaN</td>\n",
       "      <td>NaN</td>\n",
       "      <td>...</td>\n",
       "      <td>NaN</td>\n",
       "      <td>Air Canada</td>\n",
       "      <td>NaN</td>\n",
       "      <td>NaN</td>\n",
       "      <td>1.0</td>\n",
       "      <td>44.0</td>\n",
       "      <td>VMC</td>\n",
       "      <td>Climb</td>\n",
       "      <td>Probable Cause</td>\n",
       "      <td>19-09-2017</td>\n",
       "    </tr>\n",
       "    <tr>\n",
       "      <th>7</th>\n",
       "      <td>20020909X01562</td>\n",
       "      <td>Accident</td>\n",
       "      <td>SEA82DA022</td>\n",
       "      <td>1982-01-01</td>\n",
       "      <td>PULLMAN, WA</td>\n",
       "      <td>United States</td>\n",
       "      <td>NaN</td>\n",
       "      <td>NaN</td>\n",
       "      <td>NaN</td>\n",
       "      <td>BLACKBURN AG STRIP</td>\n",
       "      <td>...</td>\n",
       "      <td>Personal</td>\n",
       "      <td>NaN</td>\n",
       "      <td>0.0</td>\n",
       "      <td>0.0</td>\n",
       "      <td>0.0</td>\n",
       "      <td>2.0</td>\n",
       "      <td>VMC</td>\n",
       "      <td>Takeoff</td>\n",
       "      <td>Probable Cause</td>\n",
       "      <td>01-01-1982</td>\n",
       "    </tr>\n",
       "    <tr>\n",
       "      <th>8</th>\n",
       "      <td>20020909X01561</td>\n",
       "      <td>Accident</td>\n",
       "      <td>NYC82DA015</td>\n",
       "      <td>1982-01-01</td>\n",
       "      <td>EAST HANOVER, NJ</td>\n",
       "      <td>United States</td>\n",
       "      <td>NaN</td>\n",
       "      <td>NaN</td>\n",
       "      <td>N58</td>\n",
       "      <td>HANOVER</td>\n",
       "      <td>...</td>\n",
       "      <td>Business</td>\n",
       "      <td>NaN</td>\n",
       "      <td>0.0</td>\n",
       "      <td>0.0</td>\n",
       "      <td>0.0</td>\n",
       "      <td>2.0</td>\n",
       "      <td>IMC</td>\n",
       "      <td>Landing</td>\n",
       "      <td>Probable Cause</td>\n",
       "      <td>01-01-1982</td>\n",
       "    </tr>\n",
       "    <tr>\n",
       "      <th>12</th>\n",
       "      <td>20020917X02148</td>\n",
       "      <td>Accident</td>\n",
       "      <td>FTW82FRJ07</td>\n",
       "      <td>1982-01-02</td>\n",
       "      <td>HOMER, LA</td>\n",
       "      <td>United States</td>\n",
       "      <td>NaN</td>\n",
       "      <td>NaN</td>\n",
       "      <td>NaN</td>\n",
       "      <td>NaN</td>\n",
       "      <td>...</td>\n",
       "      <td>Personal</td>\n",
       "      <td>NaN</td>\n",
       "      <td>0.0</td>\n",
       "      <td>0.0</td>\n",
       "      <td>1.0</td>\n",
       "      <td>0.0</td>\n",
       "      <td>IMC</td>\n",
       "      <td>Cruise</td>\n",
       "      <td>Probable Cause</td>\n",
       "      <td>02-01-1983</td>\n",
       "    </tr>\n",
       "    <tr>\n",
       "      <th>13</th>\n",
       "      <td>20020917X02134</td>\n",
       "      <td>Accident</td>\n",
       "      <td>FTW82FRA14</td>\n",
       "      <td>1982-01-02</td>\n",
       "      <td>HEARNE, TX</td>\n",
       "      <td>United States</td>\n",
       "      <td>NaN</td>\n",
       "      <td>NaN</td>\n",
       "      <td>T72</td>\n",
       "      <td>HEARNE MUNICIPAL</td>\n",
       "      <td>...</td>\n",
       "      <td>Personal</td>\n",
       "      <td>NaN</td>\n",
       "      <td>1.0</td>\n",
       "      <td>0.0</td>\n",
       "      <td>0.0</td>\n",
       "      <td>0.0</td>\n",
       "      <td>IMC</td>\n",
       "      <td>Takeoff</td>\n",
       "      <td>Probable Cause</td>\n",
       "      <td>02-01-1983</td>\n",
       "    </tr>\n",
       "  </tbody>\n",
       "</table>\n",
       "<p>5 rows × 31 columns</p>\n",
       "</div>"
      ],
      "text/plain": [
       "          Event.Id Investigation.Type Accident.Number  Event.Date  \\\n",
       "5   20170710X52551           Accident      NYC79AA106  1979-09-17   \n",
       "7   20020909X01562           Accident      SEA82DA022  1982-01-01   \n",
       "8   20020909X01561           Accident      NYC82DA015  1982-01-01   \n",
       "12  20020917X02148           Accident      FTW82FRJ07  1982-01-02   \n",
       "13  20020917X02134           Accident      FTW82FRA14  1982-01-02   \n",
       "\n",
       "            Location        Country   Latitude   Longitude Airport.Code  \\\n",
       "5         BOSTON, MA  United States  42.445277  -70.758333          NaN   \n",
       "7        PULLMAN, WA  United States        NaN         NaN          NaN   \n",
       "8   EAST HANOVER, NJ  United States        NaN         NaN          N58   \n",
       "12         HOMER, LA  United States        NaN         NaN          NaN   \n",
       "13        HEARNE, TX  United States        NaN         NaN          T72   \n",
       "\n",
       "          Airport.Name  ... Purpose.of.flight Air.carrier  \\\n",
       "5                  NaN  ...               NaN  Air Canada   \n",
       "7   BLACKBURN AG STRIP  ...          Personal         NaN   \n",
       "8              HANOVER  ...          Business         NaN   \n",
       "12                 NaN  ...          Personal         NaN   \n",
       "13    HEARNE MUNICIPAL  ...          Personal         NaN   \n",
       "\n",
       "   Total.Fatal.Injuries Total.Serious.Injuries Total.Minor.Injuries  \\\n",
       "5                   NaN                    NaN                  1.0   \n",
       "7                   0.0                    0.0                  0.0   \n",
       "8                   0.0                    0.0                  0.0   \n",
       "12                  0.0                    0.0                  1.0   \n",
       "13                  1.0                    0.0                  0.0   \n",
       "\n",
       "   Total.Uninjured Weather.Condition  Broad.phase.of.flight   Report.Status  \\\n",
       "5             44.0               VMC                  Climb  Probable Cause   \n",
       "7              2.0               VMC                Takeoff  Probable Cause   \n",
       "8              2.0               IMC                Landing  Probable Cause   \n",
       "12             0.0               IMC                 Cruise  Probable Cause   \n",
       "13             0.0               IMC                Takeoff  Probable Cause   \n",
       "\n",
       "   Publication.Date  \n",
       "5        19-09-2017  \n",
       "7        01-01-1982  \n",
       "8        01-01-1982  \n",
       "12       02-01-1983  \n",
       "13       02-01-1983  \n",
       "\n",
       "[5 rows x 31 columns]"
      ]
     },
     "execution_count": 13,
     "metadata": {},
     "output_type": "execute_result"
    }
   ],
   "source": [
    "df_aircraft_clean.head()"
   ]
  },
  {
   "cell_type": "code",
   "execution_count": 14,
   "metadata": {
    "scrolled": true
   },
   "outputs": [
    {
     "data": {
      "text/plain": [
       "Event.Id                      0\n",
       "Investigation.Type            0\n",
       "Accident.Number               0\n",
       "Event.Date                    0\n",
       "Location                      7\n",
       "Country                       7\n",
       "Latitude                   5498\n",
       "Longitude                  5507\n",
       "Airport.Code               9825\n",
       "Airport.Name               9346\n",
       "Injury.Severity             812\n",
       "Aircraft.damage            1279\n",
       "Aircraft.Category             0\n",
       "Registration.Number         223\n",
       "Make                          0\n",
       "Model                         0\n",
       "Amateur.Built                17\n",
       "Number.of.Engines          2749\n",
       "Engine.Type                4213\n",
       "FAR.Description             499\n",
       "Schedule                  24598\n",
       "Purpose.of.flight          3730\n",
       "Air.carrier               16323\n",
       "Total.Fatal.Injuries       3159\n",
       "Total.Serious.Injuries     3216\n",
       "Total.Minor.Injuries       2871\n",
       "Total.Uninjured             894\n",
       "Weather.Condition          3044\n",
       "Broad.phase.of.flight     21195\n",
       "Report.Status              4962\n",
       "Publication.Date           2237\n",
       "dtype: int64"
      ]
     },
     "execution_count": 14,
     "metadata": {},
     "output_type": "execute_result"
    }
   ],
   "source": [
    "df_aircraft_clean.isna().sum()"
   ]
  },
  {
   "cell_type": "code",
   "execution_count": 15,
   "metadata": {},
   "outputs": [
    {
     "data": {
      "text/plain": [
       "CESSNA                4864\n",
       "Cessna                3607\n",
       "PIPER                 2804\n",
       "Piper                 1910\n",
       "BOEING                1034\n",
       "BEECH                 1018\n",
       "Beech                  674\n",
       "Boeing                 287\n",
       "MOONEY                 238\n",
       "CIRRUS DESIGN CORP     218\n",
       "AIR TRACTOR INC        217\n",
       "AIRBUS                 216\n",
       "Mooney                 181\n",
       "Grumman                173\n",
       "BELLANCA               158\n",
       "Name: Make, dtype: int64"
      ]
     },
     "execution_count": 15,
     "metadata": {},
     "output_type": "execute_result"
    }
   ],
   "source": [
    "df_aircraft_clean['Make'].value_counts().head(15)"
   ]
  },
  {
   "cell_type": "code",
   "execution_count": 16,
   "metadata": {},
   "outputs": [
    {
     "data": {
      "text/plain": [
       "3869"
      ]
     },
     "execution_count": 16,
     "metadata": {},
     "output_type": "execute_result"
    }
   ],
   "source": [
    "len(df_aircraft_clean['Make'].unique())"
   ]
  },
  {
   "cell_type": "code",
   "execution_count": 17,
   "metadata": {},
   "outputs": [
    {
     "data": {
      "text/plain": [
       "Cessna       22227\n",
       "Piper        12029\n",
       "CESSNA        4922\n",
       "Beech         4330\n",
       "PIPER         2841\n",
       "Bell          2134\n",
       "Boeing        1594\n",
       "BOEING        1151\n",
       "Grumman       1094\n",
       "Mooney        1092\n",
       "BEECH         1042\n",
       "Robinson       946\n",
       "Bellanca       886\n",
       "Hughes         795\n",
       "Schweizer      629\n",
       "Name: Make, dtype: int64"
      ]
     },
     "execution_count": 17,
     "metadata": {},
     "output_type": "execute_result"
    }
   ],
   "source": [
    "df['Make'].value_counts().head(15)"
   ]
  },
  {
   "cell_type": "code",
   "execution_count": 18,
   "metadata": {},
   "outputs": [
    {
     "data": {
      "text/plain": [
       "No     80312\n",
       "Yes     8475\n",
       "Name: Amateur.Built, dtype: int64"
      ]
     },
     "execution_count": 18,
     "metadata": {},
     "output_type": "execute_result"
    }
   ],
   "source": [
    "df['Amateur.Built'].value_counts()"
   ]
  },
  {
   "cell_type": "code",
   "execution_count": 19,
   "metadata": {},
   "outputs": [
    {
     "data": {
      "text/plain": [
       "Reciprocating      69530\n",
       "Turbo Shaft         3609\n",
       "Turbo Prop          3391\n",
       "Turbo Fan           2481\n",
       "Unknown             2051\n",
       "Turbo Jet            703\n",
       "None                  19\n",
       "Geared Turbofan       12\n",
       "Electric              10\n",
       "NONE                   2\n",
       "LR                     2\n",
       "Hybrid Rocket          1\n",
       "UNK                    1\n",
       "Name: Engine.Type, dtype: int64"
      ]
     },
     "execution_count": 19,
     "metadata": {},
     "output_type": "execute_result"
    }
   ],
   "source": [
    "df['Engine.Type'].value_counts()"
   ]
  },
  {
   "cell_type": "code",
   "execution_count": 20,
   "metadata": {},
   "outputs": [
    {
     "data": {
      "text/plain": [
       "NSCH    4474\n",
       "UNK     4099\n",
       "SCHD    4009\n",
       "Name: Schedule, dtype: int64"
      ]
     },
     "execution_count": 20,
     "metadata": {},
     "output_type": "execute_result"
    }
   ],
   "source": [
    "df['Schedule'].value_counts()"
   ]
  },
  {
   "cell_type": "code",
   "execution_count": 21,
   "metadata": {},
   "outputs": [
    {
     "data": {
      "text/plain": [
       "Personal                     49448\n",
       "Instructional                10601\n",
       "Unknown                       6802\n",
       "Aerial Application            4712\n",
       "Business                      4018\n",
       "Positioning                   1646\n",
       "Other Work Use                1264\n",
       "Ferry                          812\n",
       "Aerial Observation             794\n",
       "Public Aircraft                720\n",
       "Executive/corporate            553\n",
       "Flight Test                    405\n",
       "Skydiving                      182\n",
       "External Load                  123\n",
       "Public Aircraft - Federal      105\n",
       "Banner Tow                     101\n",
       "Air Race show                   99\n",
       "Public Aircraft - Local         74\n",
       "Public Aircraft - State         64\n",
       "Air Race/show                   59\n",
       "Glider Tow                      53\n",
       "Firefighting                    40\n",
       "Air Drop                        11\n",
       "ASHO                             6\n",
       "PUBS                             4\n",
       "PUBL                             1\n",
       "Name: Purpose.of.flight, dtype: int64"
      ]
     },
     "execution_count": 21,
     "metadata": {},
     "output_type": "execute_result"
    }
   ],
   "source": [
    "df['Purpose.of.flight'].value_counts()"
   ]
  },
  {
   "cell_type": "code",
   "execution_count": 22,
   "metadata": {},
   "outputs": [
    {
     "data": {
      "text/plain": [
       "Pilot                            258\n",
       "American Airlines                 90\n",
       "United Airlines                   89\n",
       "Delta Air Lines                   53\n",
       "SOUTHWEST AIRLINES CO             42\n",
       "                                ... \n",
       "FORT WAYNE FLIGHT ACADEMY INC      1\n",
       "WARREN COUNTY AIRPORT LTD          1\n",
       "DIRKS DARREL                       1\n",
       "LUIS M. JARA                       1\n",
       "(dba: Alaska Helicopter Inc.)      1\n",
       "Name: Air.carrier, Length: 13590, dtype: int64"
      ]
     },
     "execution_count": 22,
     "metadata": {},
     "output_type": "execute_result"
    }
   ],
   "source": [
    "df['Air.carrier'].value_counts()"
   ]
  },
  {
   "cell_type": "code",
   "execution_count": 23,
   "metadata": {},
   "outputs": [
    {
     "data": {
      "text/plain": [
       "Landing        15428\n",
       "Takeoff        12493\n",
       "Cruise         10269\n",
       "Maneuvering     8144\n",
       "Approach        6546\n",
       "Climb           2034\n",
       "Taxi            1958\n",
       "Descent         1887\n",
       "Go-around       1353\n",
       "Standing         945\n",
       "Unknown          548\n",
       "Other            119\n",
       "Name: Broad.phase.of.flight, dtype: int64"
      ]
     },
     "execution_count": 23,
     "metadata": {},
     "output_type": "execute_result"
    }
   ],
   "source": [
    "df['Broad.phase.of.flight'].value_counts()"
   ]
  },
  {
   "cell_type": "code",
   "execution_count": 24,
   "metadata": {},
   "outputs": [],
   "source": [
    "df_clean = df.dropna(subset=['Make'])"
   ]
  },
  {
   "cell_type": "code",
   "execution_count": 25,
   "metadata": {},
   "outputs": [
    {
     "name": "stderr",
     "output_type": "stream",
     "text": [
      "C:\\Users\\yasit\\anaconda3\\envs\\learn-env\\lib\\site-packages\\pandas\\core\\indexing.py:1745: SettingWithCopyWarning: \n",
      "A value is trying to be set on a copy of a slice from a DataFrame.\n",
      "Try using .loc[row_indexer,col_indexer] = value instead\n",
      "\n",
      "See the caveats in the documentation: https://pandas.pydata.org/pandas-docs/stable/user_guide/indexing.html#returning-a-view-versus-a-copy\n",
      "  isetter(ilocs[0], value)\n"
     ]
    }
   ],
   "source": [
    "df_clean.loc[:,\"Make\"] = df_clean.loc[:,\"Make\"].str.strip().str.upper()"
   ]
  },
  {
   "cell_type": "code",
   "execution_count": 26,
   "metadata": {},
   "outputs": [],
   "source": [
    "df_clean.loc[:,\"Make\"] = df_clean.loc[:,\"Make\"].replace({\n",
    "    \"AMERICAN LEGAND AIRCRAFT\": \"AMERICAN LEGEND\",\n",
    "    \"AMERICAN LEGEND AIRCRAFT CO\": \"AMERICAN LEGEND\",\n",
    "    \"AMERICAN LEGEND AIRCRAFT CO.\": \"AMERICAN LEGEND\",\n",
    "    \"AMERICAN LEGEND AIRCRAFT COMPA\": \"AMERICAN LEGEND\"})"
   ]
  },
  {
   "cell_type": "code",
   "execution_count": 27,
   "metadata": {},
   "outputs": [],
   "source": [
    "df_clean.loc[:,\"Make\"] = df_clean.loc[:,\"Make\"].replace({\n",
    " \"CESNA\": \"CESSNA\",\n",
    "    \"CESSNA AIRCRAFT\": \"CESSNA\",\n",
    "    \"CESSNA AIRCRAFT CO\": \"CESSNA\",\n",
    "    \"CESSNA AIRCRAFT CO.\": \"CESSNA\",\n",
    "    \"CESSNA AIRCRAFT COMPANY\": \"CESSNA\",\n",
    "    \"CESSNA ECTOR\":\"CESSNA\",\n",
    "    \"CESSNA REEMS\":\"CESSNA\",\n",
    "    \"CESSNA REIMS\":\"CESSNA\",\n",
    "    \"CESSNA ROBERTSON\":\"CESSNA\",\n",
    "    \"CESSNA SKYHAWK II\":\"CESSNA\",\n",
    "    \"CESSNA SOLOY\":\"CESSNA\",\n",
    "    \"CESSNA WREN\":\"CESSNA\",\n",
    "    \"CESSNA/AIR REPAIR INC\":\"CESSNA\",\n",
    "    \"CESSNA/WEAVER\":\"CESSNA\"})"
   ]
  },
  {
   "cell_type": "code",
   "execution_count": 28,
   "metadata": {},
   "outputs": [],
   "source": [
    "df_clean.loc[:,\"Make\"] = df_clean.loc[:,\"Make\"].replace({\n",
    "\"PIPER / LAUDEMAN\":\"PIPER\",\n",
    "\"PIPER AEROSTAR\":\"PIPER\",\n",
    "\"PIPER AIRCRAFT\":\"PIPER\",\n",
    "\"PIPER AIRCRAFT CORPORATION\":\"PIPER\",\n",
    "\"PIPER AIRCRAFT INC\":\"PIPER\",\n",
    "\"PIPER AIRCRAFT, INC.\":\"PIPER\",\n",
    "\"PIPER CUB CRAFTERS\":\"PIPER\",\n",
    "\"PIPER PAWNEE\":\"PIPER\",\n",
    "\"PIPER-AEROSTAR\":\"PIPER\",\n",
    "\"PIPER-HARRIS\":\"PIPER\",\n",
    "\"PIPER/CUB CRAFTERS\":\"PIPER\",\n",
    "\"PIPER/STEVENS\":\"PIPER\",\n",
    "\"PIPER/WALLY'S FLYERS INC\":\"PIPER\"})"
   ]
  },
  {
   "cell_type": "code",
   "execution_count": 29,
   "metadata": {},
   "outputs": [],
   "source": [
    "df_clean.loc[:,\"Make\"] = df_clean.loc[:,\"Make\"].replace({\n",
    "\"BOEING (STEARMAN)\":\"BOEING\",\n",
    "\"BOEING - CANADA (DE HAVILLAND)\":\"BOEING\",\n",
    "\"BOEING 777-306ER\":\"BOEING\",\n",
    "\"BOEING COMMERCIAL AIRPLANE GRO\":\"BOEING\",\n",
    "\"BOEING COMPANY\":\"BOEING\",\n",
    "\"BOEING COMPANY, LONG BEACH DIV\":\"BOEING\",\n",
    "\"BOEING HELICOPTERS DIV.\":\"BOEING\",\n",
    "\"BOEING OF CANADA/DEHAV DIV\":\"BOEING\",\n",
    "\"BOEING STEARMAN\":\"BOEING\",\n",
    "\"BOEING VERTOL\":\"BOEING\",\n",
    "\"BOEING-BROWN\":\"BOEING\",\n",
    "\"BOEING-STEARMAN\":\"BOEING\",\n",
    "\"BOEING-VERTOL\":\"BOEING\"})"
   ]
  },
  {
   "cell_type": "code",
   "execution_count": 30,
   "metadata": {},
   "outputs": [],
   "source": [
    "df_clean.loc[:,\"Make\"] = df_clean.loc[:,\"Make\"].replace({\n",
    "\"ROBINSON HELICOPTER\":\"ROBINSON\",\n",
    "\"ROBINSON HELICOPTER CO\":\"ROBINSON\",\n",
    "\"ROBINSON HELICOPTER CO INC\":\"ROBINSON\",\n",
    "\"ROBINSON HELICOPTER CO.\":\"ROBINSON\",\n",
    "\"ROBINSON HELICOPTER COMPANY\":\"ROBINSON\",\n",
    "\"ROBINSON HELICOPTERS\":\"ROBINSON\",\n",
    "\"ROBINSON MICHAEL E\":\"ROBINSON\",\n",
    "\"ROBINSON STEWART J\":\"ROBINSON\"})"
   ]
  },
  {
   "cell_type": "code",
   "execution_count": 31,
   "metadata": {},
   "outputs": [],
   "source": [
    "df_clean.loc[:,\"Make\"] = df_clean.loc[:,\"Make\"].replace({\n",
    "\"BEECH AIRCRAFT\":\"BEECH\",\n",
    "\"BEECH AIRCRAFT CO.\":\"BEECH\",\n",
    "\"BEECH AIRCRAFT CORP\":\"BEECH\",\n",
    "\"BEECH AIRCRAFT CORPORATION\":\"BEECH\",\n",
    "\"BEECHCRAFT\":\"BEECH\",\n",
    "\"BEECHCRAFT CORPORATION\":\"BEECH\",\n",
    "\"BEECHER\":\"BEECH\"})\n"
   ]
  },
  {
   "cell_type": "code",
   "execution_count": null,
   "metadata": {},
   "outputs": [],
   "source": [
    "df_clean.loc[:,\"Make\"] = df_clean.loc[:,\"Make\"].replace({\n",
    "\"AIRBUS INDUSTRIE\":\"AIRBUS\",\n",
    "})"
   ]
  },
  {
   "cell_type": "code",
   "execution_count": null,
   "metadata": {},
   "outputs": [],
   "source": [
    "df_clean.loc[:,\"Make\"] = df_clean.loc[:,\"Make\"].replace({\n",
    "\"MCDONNELL DOUGLAS CORPORATION\":\"MCDONALD DOUGLAS\",\n",
    "    \"MCDONNELL-DOUGLAS\":\"MCDONALD DOUGLAS\",\n",
    "    \"MCDONNELL DOUGLAS\":\"MCDONALD DOUGLAS\",\n",
    "    \"MCDONNELL DOUGLAS AIRCRAFT CO\":\"MCDONALD DOUGLAS\"\n",
    "})"
   ]
  },
  {
   "cell_type": "code",
   "execution_count": 32,
   "metadata": {},
   "outputs": [],
   "source": [
    "pd.set_option('display.max_rows', None)"
   ]
  },
  {
   "cell_type": "code",
   "execution_count": 33,
   "metadata": {},
   "outputs": [
    {
     "name": "stderr",
     "output_type": "stream",
     "text": [
      "<ipython-input-33-5af32d7e7560>:1: SettingWithCopyWarning: \n",
      "A value is trying to be set on a copy of a slice from a DataFrame.\n",
      "Try using .loc[row_indexer,col_indexer] = value instead\n",
      "\n",
      "See the caveats in the documentation: https://pandas.pydata.org/pandas-docs/stable/user_guide/indexing.html#returning-a-view-versus-a-copy\n",
      "  df_clean['Make_Model'] = df_clean['Make']+ \" \"+ df_clean['Model']\n"
     ]
    }
   ],
   "source": [
    "df_clean['Make_Model'] = df_clean['Make']+ \" \"+ df_clean['Model']"
   ]
  },
  {
   "cell_type": "code",
   "execution_count": 34,
   "metadata": {},
   "outputs": [],
   "source": [
    "List_Make = df_clean.loc[df_clean['Aircraft.Category'] =='Airplane']\n",
    "List_Make = List_Make['Make_Model'].unique()"
   ]
  },
  {
   "cell_type": "code",
   "execution_count": 35,
   "metadata": {},
   "outputs": [
    {
     "name": "stderr",
     "output_type": "stream",
     "text": [
      "C:\\Users\\yasit\\anaconda3\\envs\\learn-env\\lib\\site-packages\\pandas\\core\\indexing.py:1765: SettingWithCopyWarning: \n",
      "A value is trying to be set on a copy of a slice from a DataFrame.\n",
      "Try using .loc[row_indexer,col_indexer] = value instead\n",
      "\n",
      "See the caveats in the documentation: https://pandas.pydata.org/pandas-docs/stable/user_guide/indexing.html#returning-a-view-versus-a-copy\n",
      "  isetter(loc, value)\n"
     ]
    }
   ],
   "source": [
    "mask = (df_clean['Aircraft.Category'].isnull()) & (df_clean['Make_Model'].isin(List_Make))\n",
    "df_clean.loc[mask, 'Aircraft.Category'] = 'Airplane'"
   ]
  },
  {
   "cell_type": "code",
   "execution_count": 36,
   "metadata": {},
   "outputs": [
    {
     "data": {
      "text/plain": [
       "Airplane             68063\n",
       "Helicopter            3437\n",
       "Glider                 508\n",
       "Balloon                231\n",
       "Gyrocraft              173\n",
       "Weight-Shift           161\n",
       "Powered Parachute       91\n",
       "Ultralight              30\n",
       "Unknown                 14\n",
       "WSFT                     9\n",
       "Powered-Lift             5\n",
       "Blimp                    4\n",
       "UNK                      2\n",
       "Rocket                   1\n",
       "ULTR                     1\n",
       "Name: Aircraft.Category, dtype: int64"
      ]
     },
     "execution_count": 36,
     "metadata": {},
     "output_type": "execute_result"
    }
   ],
   "source": [
    "df_clean['Aircraft.Category'].value_counts()"
   ]
  },
  {
   "cell_type": "code",
   "execution_count": 37,
   "metadata": {},
   "outputs": [
    {
     "data": {
      "text/plain": [
       "(88826, 32)"
      ]
     },
     "execution_count": 37,
     "metadata": {},
     "output_type": "execute_result"
    }
   ],
   "source": [
    "df_clean.shape"
   ]
  },
  {
   "cell_type": "code",
   "execution_count": null,
   "metadata": {},
   "outputs": [],
   "source": [
    "df_clean[df_clean[\"Report.Status\"].str.contains(\"pilot\")==False]"
   ]
  },
  {
   "cell_type": "code",
   "execution_count": null,
   "metadata": {},
   "outputs": [],
   "source": [
    "df_clean['Make'].value_counts().head()"
   ]
  },
  {
   "cell_type": "code",
   "execution_count": null,
   "metadata": {},
   "outputs": [],
   "source": [
    "df_clean['Investigation.Type'].value_counts()"
   ]
  },
  {
   "cell_type": "code",
   "execution_count": null,
   "metadata": {},
   "outputs": [],
   "source": [
    "df_clean['Aircraft.damage'].value_counts()"
   ]
  },
  {
   "cell_type": "code",
   "execution_count": null,
   "metadata": {},
   "outputs": [],
   "source": [
    "df_clean.isna().sum()"
   ]
  },
  {
   "cell_type": "code",
   "execution_count": null,
   "metadata": {},
   "outputs": [],
   "source": [
    "df_clean['Make_Model'] = df_clean['Make']+ \" \"+ df_clean['Model']"
   ]
  },
  {
   "cell_type": "code",
   "execution_count": null,
   "metadata": {},
   "outputs": [],
   "source": [
    "df_clean.head()"
   ]
  },
  {
   "cell_type": "code",
   "execution_count": null,
   "metadata": {},
   "outputs": [],
   "source": [
    "df_clean['Purpose.of.flight'].value_counts()"
   ]
  },
  {
   "cell_type": "code",
   "execution_count": null,
   "metadata": {},
   "outputs": [],
   "source": [
    "Make_list = df_clean['Make'].unique()\n",
    "len(Make_list)"
   ]
  },
  {
   "cell_type": "code",
   "execution_count": null,
   "metadata": {},
   "outputs": [],
   "source": [
    "df_clean_Airplane = df_clean.loc[df_clean['Aircraft.Category'] == 'Airplane']"
   ]
  },
  {
   "cell_type": "code",
   "execution_count": null,
   "metadata": {},
   "outputs": [],
   "source": [
    "df_clean_Airplane.head()"
   ]
  },
  {
   "cell_type": "code",
   "execution_count": null,
   "metadata": {},
   "outputs": [],
   "source": [
    "df_clean['Aircraft.Category'].value_counts()"
   ]
  },
  {
   "cell_type": "code",
   "execution_count": null,
   "metadata": {},
   "outputs": [],
   "source": [
    "df_clean['Aircraft.damage'].value_counts()"
   ]
  },
  {
   "cell_type": "code",
   "execution_count": null,
   "metadata": {},
   "outputs": [],
   "source": [
    "df_clean['Amateur.Built'].value_counts()"
   ]
  },
  {
   "cell_type": "code",
   "execution_count": null,
   "metadata": {},
   "outputs": [],
   "source": [
    "df_clean['Number.of.Engines'].value_counts()"
   ]
  },
  {
   "cell_type": "code",
   "execution_count": null,
   "metadata": {},
   "outputs": [],
   "source": [
    "df_clean['Engine.Type'].value_counts()"
   ]
  },
  {
   "cell_type": "code",
   "execution_count": null,
   "metadata": {},
   "outputs": [],
   "source": [
    "df_clean['FAR.Description'].value_counts()"
   ]
  },
  {
   "cell_type": "code",
   "execution_count": null,
   "metadata": {},
   "outputs": [],
   "source": [
    "df_clean['Purpose.of.flight'].value_counts()"
   ]
  },
  {
   "cell_type": "code",
   "execution_count": 226,
   "metadata": {},
   "outputs": [
    {
     "data": {
      "text/plain": [
       "72202"
      ]
     },
     "execution_count": 226,
     "metadata": {},
     "output_type": "execute_result"
    }
   ],
   "source": [
    "df_clean['Air.carrier'].isna().sum()"
   ]
  },
  {
   "cell_type": "code",
   "execution_count": 227,
   "metadata": {},
   "outputs": [
    {
     "data": {
      "text/plain": [
       "88826"
      ]
     },
     "execution_count": 227,
     "metadata": {},
     "output_type": "execute_result"
    }
   ],
   "source": [
    "len(df_clean['Event.Id'])"
   ]
  },
  {
   "cell_type": "code",
   "execution_count": 228,
   "metadata": {},
   "outputs": [
    {
     "data": {
      "text/plain": [
       "Landing        15427\n",
       "Takeoff        12490\n",
       "Cruise         10267\n",
       "Maneuvering     8143\n",
       "Approach        6543\n",
       "Climb           2034\n",
       "Taxi            1958\n",
       "Descent         1886\n",
       "Go-around       1353\n",
       "Standing         945\n",
       "Unknown          548\n",
       "Other            119\n",
       "Name: Broad.phase.of.flight, dtype: int64"
      ]
     },
     "execution_count": 228,
     "metadata": {},
     "output_type": "execute_result"
    }
   ],
   "source": [
    "df_clean['Broad.phase.of.flight'].value_counts()"
   ]
  },
  {
   "cell_type": "code",
   "execution_count": 229,
   "metadata": {},
   "outputs": [
    {
     "data": {
      "text/plain": [
       "Accident    84979\n",
       "Incident     3847\n",
       "Name: Investigation.Type, dtype: int64"
      ]
     },
     "execution_count": 229,
     "metadata": {},
     "output_type": "execute_result"
    }
   ],
   "source": [
    "df_clean['Investigation.Type'].value_counts()"
   ]
  },
  {
   "cell_type": "code",
   "execution_count": 230,
   "metadata": {},
   "outputs": [
    {
     "data": {
      "text/html": [
       "<div>\n",
       "<style scoped>\n",
       "    .dataframe tbody tr th:only-of-type {\n",
       "        vertical-align: middle;\n",
       "    }\n",
       "\n",
       "    .dataframe tbody tr th {\n",
       "        vertical-align: top;\n",
       "    }\n",
       "\n",
       "    .dataframe thead th {\n",
       "        text-align: right;\n",
       "    }\n",
       "</style>\n",
       "<table border=\"1\" class=\"dataframe\">\n",
       "  <thead>\n",
       "    <tr style=\"text-align: right;\">\n",
       "      <th></th>\n",
       "      <th>Event.Id</th>\n",
       "      <th>Investigation.Type</th>\n",
       "      <th>Accident.Number</th>\n",
       "      <th>Event.Date</th>\n",
       "      <th>Location</th>\n",
       "      <th>Country</th>\n",
       "      <th>Latitude</th>\n",
       "      <th>Longitude</th>\n",
       "      <th>Airport.Code</th>\n",
       "      <th>Airport.Name</th>\n",
       "      <th>...</th>\n",
       "      <th>Air.carrier</th>\n",
       "      <th>Total.Fatal.Injuries</th>\n",
       "      <th>Total.Serious.Injuries</th>\n",
       "      <th>Total.Minor.Injuries</th>\n",
       "      <th>Total.Uninjured</th>\n",
       "      <th>Weather.Condition</th>\n",
       "      <th>Broad.phase.of.flight</th>\n",
       "      <th>Report.Status</th>\n",
       "      <th>Publication.Date</th>\n",
       "      <th>Make_Model</th>\n",
       "    </tr>\n",
       "  </thead>\n",
       "  <tbody>\n",
       "    <tr>\n",
       "      <th>0</th>\n",
       "      <td>20001218X45444</td>\n",
       "      <td>Accident</td>\n",
       "      <td>SEA87LA080</td>\n",
       "      <td>1948-10-24</td>\n",
       "      <td>MOOSE CREEK, ID</td>\n",
       "      <td>United States</td>\n",
       "      <td>NaN</td>\n",
       "      <td>NaN</td>\n",
       "      <td>NaN</td>\n",
       "      <td>NaN</td>\n",
       "      <td>...</td>\n",
       "      <td>NaN</td>\n",
       "      <td>2.0</td>\n",
       "      <td>0.0</td>\n",
       "      <td>0.0</td>\n",
       "      <td>0.0</td>\n",
       "      <td>UNK</td>\n",
       "      <td>Cruise</td>\n",
       "      <td>Probable Cause</td>\n",
       "      <td>NaN</td>\n",
       "      <td>STINSON 108-3</td>\n",
       "    </tr>\n",
       "    <tr>\n",
       "      <th>1</th>\n",
       "      <td>20001218X45447</td>\n",
       "      <td>Accident</td>\n",
       "      <td>LAX94LA336</td>\n",
       "      <td>1962-07-19</td>\n",
       "      <td>BRIDGEPORT, CA</td>\n",
       "      <td>United States</td>\n",
       "      <td>NaN</td>\n",
       "      <td>NaN</td>\n",
       "      <td>NaN</td>\n",
       "      <td>NaN</td>\n",
       "      <td>...</td>\n",
       "      <td>NaN</td>\n",
       "      <td>4.0</td>\n",
       "      <td>0.0</td>\n",
       "      <td>0.0</td>\n",
       "      <td>0.0</td>\n",
       "      <td>UNK</td>\n",
       "      <td>Unknown</td>\n",
       "      <td>Probable Cause</td>\n",
       "      <td>19-09-1996</td>\n",
       "      <td>PIPER PA24-180</td>\n",
       "    </tr>\n",
       "    <tr>\n",
       "      <th>2</th>\n",
       "      <td>20061025X01555</td>\n",
       "      <td>Accident</td>\n",
       "      <td>NYC07LA005</td>\n",
       "      <td>1974-08-30</td>\n",
       "      <td>Saltville, VA</td>\n",
       "      <td>United States</td>\n",
       "      <td>36.922223</td>\n",
       "      <td>-81.878056</td>\n",
       "      <td>NaN</td>\n",
       "      <td>NaN</td>\n",
       "      <td>...</td>\n",
       "      <td>NaN</td>\n",
       "      <td>3.0</td>\n",
       "      <td>NaN</td>\n",
       "      <td>NaN</td>\n",
       "      <td>NaN</td>\n",
       "      <td>IMC</td>\n",
       "      <td>Cruise</td>\n",
       "      <td>Probable Cause</td>\n",
       "      <td>26-02-2007</td>\n",
       "      <td>CESSNA 172M</td>\n",
       "    </tr>\n",
       "    <tr>\n",
       "      <th>3</th>\n",
       "      <td>20001218X45448</td>\n",
       "      <td>Accident</td>\n",
       "      <td>LAX96LA321</td>\n",
       "      <td>1977-06-19</td>\n",
       "      <td>EUREKA, CA</td>\n",
       "      <td>United States</td>\n",
       "      <td>NaN</td>\n",
       "      <td>NaN</td>\n",
       "      <td>NaN</td>\n",
       "      <td>NaN</td>\n",
       "      <td>...</td>\n",
       "      <td>NaN</td>\n",
       "      <td>2.0</td>\n",
       "      <td>0.0</td>\n",
       "      <td>0.0</td>\n",
       "      <td>0.0</td>\n",
       "      <td>IMC</td>\n",
       "      <td>Cruise</td>\n",
       "      <td>Probable Cause</td>\n",
       "      <td>12-09-2000</td>\n",
       "      <td>ROCKWELL 112</td>\n",
       "    </tr>\n",
       "    <tr>\n",
       "      <th>4</th>\n",
       "      <td>20041105X01764</td>\n",
       "      <td>Accident</td>\n",
       "      <td>CHI79FA064</td>\n",
       "      <td>1979-08-02</td>\n",
       "      <td>Canton, OH</td>\n",
       "      <td>United States</td>\n",
       "      <td>NaN</td>\n",
       "      <td>NaN</td>\n",
       "      <td>NaN</td>\n",
       "      <td>NaN</td>\n",
       "      <td>...</td>\n",
       "      <td>NaN</td>\n",
       "      <td>1.0</td>\n",
       "      <td>2.0</td>\n",
       "      <td>NaN</td>\n",
       "      <td>0.0</td>\n",
       "      <td>VMC</td>\n",
       "      <td>Approach</td>\n",
       "      <td>Probable Cause</td>\n",
       "      <td>16-04-1980</td>\n",
       "      <td>CESSNA 501</td>\n",
       "    </tr>\n",
       "  </tbody>\n",
       "</table>\n",
       "<p>5 rows × 32 columns</p>\n",
       "</div>"
      ],
      "text/plain": [
       "         Event.Id Investigation.Type Accident.Number  Event.Date  \\\n",
       "0  20001218X45444           Accident      SEA87LA080  1948-10-24   \n",
       "1  20001218X45447           Accident      LAX94LA336  1962-07-19   \n",
       "2  20061025X01555           Accident      NYC07LA005  1974-08-30   \n",
       "3  20001218X45448           Accident      LAX96LA321  1977-06-19   \n",
       "4  20041105X01764           Accident      CHI79FA064  1979-08-02   \n",
       "\n",
       "          Location        Country   Latitude   Longitude Airport.Code  \\\n",
       "0  MOOSE CREEK, ID  United States        NaN         NaN          NaN   \n",
       "1   BRIDGEPORT, CA  United States        NaN         NaN          NaN   \n",
       "2    Saltville, VA  United States  36.922223  -81.878056          NaN   \n",
       "3       EUREKA, CA  United States        NaN         NaN          NaN   \n",
       "4       Canton, OH  United States        NaN         NaN          NaN   \n",
       "\n",
       "  Airport.Name  ... Air.carrier Total.Fatal.Injuries Total.Serious.Injuries  \\\n",
       "0          NaN  ...         NaN                  2.0                    0.0   \n",
       "1          NaN  ...         NaN                  4.0                    0.0   \n",
       "2          NaN  ...         NaN                  3.0                    NaN   \n",
       "3          NaN  ...         NaN                  2.0                    0.0   \n",
       "4          NaN  ...         NaN                  1.0                    2.0   \n",
       "\n",
       "  Total.Minor.Injuries Total.Uninjured Weather.Condition  \\\n",
       "0                  0.0             0.0               UNK   \n",
       "1                  0.0             0.0               UNK   \n",
       "2                  NaN             NaN               IMC   \n",
       "3                  0.0             0.0               IMC   \n",
       "4                  NaN             0.0               VMC   \n",
       "\n",
       "  Broad.phase.of.flight   Report.Status Publication.Date      Make_Model  \n",
       "0                Cruise  Probable Cause              NaN   STINSON 108-3  \n",
       "1               Unknown  Probable Cause       19-09-1996  PIPER PA24-180  \n",
       "2                Cruise  Probable Cause       26-02-2007     CESSNA 172M  \n",
       "3                Cruise  Probable Cause       12-09-2000    ROCKWELL 112  \n",
       "4              Approach  Probable Cause       16-04-1980      CESSNA 501  \n",
       "\n",
       "[5 rows x 32 columns]"
      ]
     },
     "execution_count": 230,
     "metadata": {},
     "output_type": "execute_result"
    }
   ],
   "source": [
    "df_clean.head()"
   ]
  },
  {
   "cell_type": "code",
   "execution_count": 231,
   "metadata": {},
   "outputs": [
    {
     "data": {
      "text/plain": [
       "Airplane             27608\n",
       "Helicopter            3437\n",
       "Glider                 508\n",
       "Balloon                231\n",
       "Gyrocraft              173\n",
       "Weight-Shift           161\n",
       "Powered Parachute       91\n",
       "Ultralight              30\n",
       "Unknown                 14\n",
       "WSFT                     9\n",
       "Powered-Lift             5\n",
       "Blimp                    4\n",
       "UNK                      2\n",
       "Rocket                   1\n",
       "ULTR                     1\n",
       "Name: Aircraft.Category, dtype: int64"
      ]
     },
     "execution_count": 231,
     "metadata": {},
     "output_type": "execute_result"
    }
   ],
   "source": [
    "df_clean['Aircraft.Category'].value_counts()"
   ]
  },
  {
   "cell_type": "code",
   "execution_count": 232,
   "metadata": {},
   "outputs": [
    {
     "data": {
      "text/plain": [
       "56551"
      ]
     },
     "execution_count": 232,
     "metadata": {},
     "output_type": "execute_result"
    }
   ],
   "source": [
    "df_clean['Aircraft.Category'].isna().sum()"
   ]
  },
  {
   "cell_type": "code",
   "execution_count": 233,
   "metadata": {},
   "outputs": [],
   "source": [
    "df_clean_aircraft = df_clean.dropna(subset=['Aircraft.Category'])"
   ]
  },
  {
   "cell_type": "code",
   "execution_count": 234,
   "metadata": {},
   "outputs": [
    {
     "data": {
      "text/html": [
       "<div>\n",
       "<style scoped>\n",
       "    .dataframe tbody tr th:only-of-type {\n",
       "        vertical-align: middle;\n",
       "    }\n",
       "\n",
       "    .dataframe tbody tr th {\n",
       "        vertical-align: top;\n",
       "    }\n",
       "\n",
       "    .dataframe thead th {\n",
       "        text-align: right;\n",
       "    }\n",
       "</style>\n",
       "<table border=\"1\" class=\"dataframe\">\n",
       "  <thead>\n",
       "    <tr style=\"text-align: right;\">\n",
       "      <th></th>\n",
       "      <th>Event.Id</th>\n",
       "      <th>Investigation.Type</th>\n",
       "      <th>Accident.Number</th>\n",
       "      <th>Event.Date</th>\n",
       "      <th>Location</th>\n",
       "      <th>Country</th>\n",
       "      <th>Latitude</th>\n",
       "      <th>Longitude</th>\n",
       "      <th>Airport.Code</th>\n",
       "      <th>Airport.Name</th>\n",
       "      <th>...</th>\n",
       "      <th>Air.carrier</th>\n",
       "      <th>Total.Fatal.Injuries</th>\n",
       "      <th>Total.Serious.Injuries</th>\n",
       "      <th>Total.Minor.Injuries</th>\n",
       "      <th>Total.Uninjured</th>\n",
       "      <th>Weather.Condition</th>\n",
       "      <th>Broad.phase.of.flight</th>\n",
       "      <th>Report.Status</th>\n",
       "      <th>Publication.Date</th>\n",
       "      <th>Make_Model</th>\n",
       "    </tr>\n",
       "  </thead>\n",
       "  <tbody>\n",
       "    <tr>\n",
       "      <th>5</th>\n",
       "      <td>20170710X52551</td>\n",
       "      <td>Accident</td>\n",
       "      <td>NYC79AA106</td>\n",
       "      <td>1979-09-17</td>\n",
       "      <td>BOSTON, MA</td>\n",
       "      <td>United States</td>\n",
       "      <td>42.445277</td>\n",
       "      <td>-70.758333</td>\n",
       "      <td>NaN</td>\n",
       "      <td>NaN</td>\n",
       "      <td>...</td>\n",
       "      <td>Air Canada</td>\n",
       "      <td>NaN</td>\n",
       "      <td>NaN</td>\n",
       "      <td>1.0</td>\n",
       "      <td>44.0</td>\n",
       "      <td>VMC</td>\n",
       "      <td>Climb</td>\n",
       "      <td>Probable Cause</td>\n",
       "      <td>19-09-2017</td>\n",
       "      <td>MCDONNELL DOUGLAS DC9</td>\n",
       "    </tr>\n",
       "    <tr>\n",
       "      <th>7</th>\n",
       "      <td>20020909X01562</td>\n",
       "      <td>Accident</td>\n",
       "      <td>SEA82DA022</td>\n",
       "      <td>1982-01-01</td>\n",
       "      <td>PULLMAN, WA</td>\n",
       "      <td>United States</td>\n",
       "      <td>NaN</td>\n",
       "      <td>NaN</td>\n",
       "      <td>NaN</td>\n",
       "      <td>BLACKBURN AG STRIP</td>\n",
       "      <td>...</td>\n",
       "      <td>NaN</td>\n",
       "      <td>0.0</td>\n",
       "      <td>0.0</td>\n",
       "      <td>0.0</td>\n",
       "      <td>2.0</td>\n",
       "      <td>VMC</td>\n",
       "      <td>Takeoff</td>\n",
       "      <td>Probable Cause</td>\n",
       "      <td>01-01-1982</td>\n",
       "      <td>CESSNA 140</td>\n",
       "    </tr>\n",
       "    <tr>\n",
       "      <th>8</th>\n",
       "      <td>20020909X01561</td>\n",
       "      <td>Accident</td>\n",
       "      <td>NYC82DA015</td>\n",
       "      <td>1982-01-01</td>\n",
       "      <td>EAST HANOVER, NJ</td>\n",
       "      <td>United States</td>\n",
       "      <td>NaN</td>\n",
       "      <td>NaN</td>\n",
       "      <td>N58</td>\n",
       "      <td>HANOVER</td>\n",
       "      <td>...</td>\n",
       "      <td>NaN</td>\n",
       "      <td>0.0</td>\n",
       "      <td>0.0</td>\n",
       "      <td>0.0</td>\n",
       "      <td>2.0</td>\n",
       "      <td>IMC</td>\n",
       "      <td>Landing</td>\n",
       "      <td>Probable Cause</td>\n",
       "      <td>01-01-1982</td>\n",
       "      <td>CESSNA 401B</td>\n",
       "    </tr>\n",
       "    <tr>\n",
       "      <th>12</th>\n",
       "      <td>20020917X02148</td>\n",
       "      <td>Accident</td>\n",
       "      <td>FTW82FRJ07</td>\n",
       "      <td>1982-01-02</td>\n",
       "      <td>HOMER, LA</td>\n",
       "      <td>United States</td>\n",
       "      <td>NaN</td>\n",
       "      <td>NaN</td>\n",
       "      <td>NaN</td>\n",
       "      <td>NaN</td>\n",
       "      <td>...</td>\n",
       "      <td>NaN</td>\n",
       "      <td>0.0</td>\n",
       "      <td>0.0</td>\n",
       "      <td>1.0</td>\n",
       "      <td>0.0</td>\n",
       "      <td>IMC</td>\n",
       "      <td>Cruise</td>\n",
       "      <td>Probable Cause</td>\n",
       "      <td>02-01-1983</td>\n",
       "      <td>BELLANCA 17-30A</td>\n",
       "    </tr>\n",
       "    <tr>\n",
       "      <th>13</th>\n",
       "      <td>20020917X02134</td>\n",
       "      <td>Accident</td>\n",
       "      <td>FTW82FRA14</td>\n",
       "      <td>1982-01-02</td>\n",
       "      <td>HEARNE, TX</td>\n",
       "      <td>United States</td>\n",
       "      <td>NaN</td>\n",
       "      <td>NaN</td>\n",
       "      <td>T72</td>\n",
       "      <td>HEARNE MUNICIPAL</td>\n",
       "      <td>...</td>\n",
       "      <td>NaN</td>\n",
       "      <td>1.0</td>\n",
       "      <td>0.0</td>\n",
       "      <td>0.0</td>\n",
       "      <td>0.0</td>\n",
       "      <td>IMC</td>\n",
       "      <td>Takeoff</td>\n",
       "      <td>Probable Cause</td>\n",
       "      <td>02-01-1983</td>\n",
       "      <td>CESSNA R172K</td>\n",
       "    </tr>\n",
       "  </tbody>\n",
       "</table>\n",
       "<p>5 rows × 32 columns</p>\n",
       "</div>"
      ],
      "text/plain": [
       "          Event.Id Investigation.Type Accident.Number  Event.Date  \\\n",
       "5   20170710X52551           Accident      NYC79AA106  1979-09-17   \n",
       "7   20020909X01562           Accident      SEA82DA022  1982-01-01   \n",
       "8   20020909X01561           Accident      NYC82DA015  1982-01-01   \n",
       "12  20020917X02148           Accident      FTW82FRJ07  1982-01-02   \n",
       "13  20020917X02134           Accident      FTW82FRA14  1982-01-02   \n",
       "\n",
       "            Location        Country   Latitude   Longitude Airport.Code  \\\n",
       "5         BOSTON, MA  United States  42.445277  -70.758333          NaN   \n",
       "7        PULLMAN, WA  United States        NaN         NaN          NaN   \n",
       "8   EAST HANOVER, NJ  United States        NaN         NaN          N58   \n",
       "12         HOMER, LA  United States        NaN         NaN          NaN   \n",
       "13        HEARNE, TX  United States        NaN         NaN          T72   \n",
       "\n",
       "          Airport.Name  ... Air.carrier Total.Fatal.Injuries  \\\n",
       "5                  NaN  ...  Air Canada                  NaN   \n",
       "7   BLACKBURN AG STRIP  ...         NaN                  0.0   \n",
       "8              HANOVER  ...         NaN                  0.0   \n",
       "12                 NaN  ...         NaN                  0.0   \n",
       "13    HEARNE MUNICIPAL  ...         NaN                  1.0   \n",
       "\n",
       "   Total.Serious.Injuries Total.Minor.Injuries Total.Uninjured  \\\n",
       "5                     NaN                  1.0            44.0   \n",
       "7                     0.0                  0.0             2.0   \n",
       "8                     0.0                  0.0             2.0   \n",
       "12                    0.0                  1.0             0.0   \n",
       "13                    0.0                  0.0             0.0   \n",
       "\n",
       "   Weather.Condition Broad.phase.of.flight   Report.Status Publication.Date  \\\n",
       "5                VMC                 Climb  Probable Cause       19-09-2017   \n",
       "7                VMC               Takeoff  Probable Cause       01-01-1982   \n",
       "8                IMC               Landing  Probable Cause       01-01-1982   \n",
       "12               IMC                Cruise  Probable Cause       02-01-1983   \n",
       "13               IMC               Takeoff  Probable Cause       02-01-1983   \n",
       "\n",
       "               Make_Model  \n",
       "5   MCDONNELL DOUGLAS DC9  \n",
       "7              CESSNA 140  \n",
       "8             CESSNA 401B  \n",
       "12        BELLANCA 17-30A  \n",
       "13           CESSNA R172K  \n",
       "\n",
       "[5 rows x 32 columns]"
      ]
     },
     "execution_count": 234,
     "metadata": {},
     "output_type": "execute_result"
    }
   ],
   "source": [
    "df_clean_aircraft.head()"
   ]
  },
  {
   "cell_type": "code",
   "execution_count": 235,
   "metadata": {},
   "outputs": [
    {
     "data": {
      "text/plain": [
       "Airplane             27608\n",
       "Helicopter            3437\n",
       "Glider                 508\n",
       "Balloon                231\n",
       "Gyrocraft              173\n",
       "Weight-Shift           161\n",
       "Powered Parachute       91\n",
       "Ultralight              30\n",
       "Unknown                 14\n",
       "WSFT                     9\n",
       "Powered-Lift             5\n",
       "Blimp                    4\n",
       "UNK                      2\n",
       "Rocket                   1\n",
       "ULTR                     1\n",
       "Name: Aircraft.Category, dtype: int64"
      ]
     },
     "execution_count": 235,
     "metadata": {},
     "output_type": "execute_result"
    }
   ],
   "source": [
    "df_clean_aircraft['Aircraft.Category'].value_counts()"
   ]
  },
  {
   "cell_type": "code",
   "execution_count": 236,
   "metadata": {},
   "outputs": [],
   "source": [
    "df_clean_aircraft = df_clean_aircraft.loc[df_clean_aircraft['Aircraft.Category']=='Airplane',:]"
   ]
  },
  {
   "cell_type": "code",
   "execution_count": 237,
   "metadata": {},
   "outputs": [
    {
     "data": {
      "text/plain": [
       "Airplane    27608\n",
       "Name: Aircraft.Category, dtype: int64"
      ]
     },
     "execution_count": 237,
     "metadata": {},
     "output_type": "execute_result"
    }
   ],
   "source": [
    "df_clean_aircraft['Aircraft.Category'].value_counts()"
   ]
  },
  {
   "cell_type": "markdown",
   "metadata": {},
   "source": [
    "Analyse the No of Engines affect the Safety"
   ]
  },
  {
   "cell_type": "code",
   "execution_count": 243,
   "metadata": {},
   "outputs": [
    {
     "data": {
      "text/plain": [
       "85052    KITTY HAWK Heaviside2\n",
       "Name: Make_Model, dtype: object"
      ]
     },
     "execution_count": 243,
     "metadata": {},
     "output_type": "execute_result"
    }
   ],
   "source": [
    "df_clean_aircraft.loc[df_clean_aircraft['Number.of.Engines']==8]['Make_Model']"
   ]
  },
  {
   "cell_type": "code",
   "execution_count": 244,
   "metadata": {
    "scrolled": true
   },
   "outputs": [
    {
     "data": {
      "image/png": "[encoded data removed]",
      "text/plain": [
       "<Figure size 720x360 with 1 Axes>"
      ]
     },
     "metadata": {
      "needs_background": "light"
     },
     "output_type": "display_data"
    }
   ],
   "source": [
    "x = df_clean_aircraft['Number.of.Engines'].value_counts().sort_index().index\n",
    "y = df_clean_aircraft['Number.of.Engines'].value_counts().sort_index().values\n",
    "\n",
    "fig, ax = plt.subplots(figsize=(10,5))\n",
    "ax.bar(x,y)\n",
    "ax.set_title('Effect of No of Engines on Safety')\n",
    "ax.set_xlabel('No of Engines')\n",
    "ax.set_ylabel('Number of Accidents');"
   ]
  },
  {
   "cell_type": "markdown",
   "metadata": {},
   "source": [
    "What are the Airplanes containing Higher No of Engines"
   ]
  },
  {
   "cell_type": "code",
   "execution_count": 245,
   "metadata": {},
   "outputs": [],
   "source": [
    "flight_eng = df_clean_aircraft.loc[df_clean_aircraft['Number.of.Engines']>2][['Make_Model','Number.of.Engines']]"
   ]
  },
  {
   "cell_type": "code",
   "execution_count": 246,
   "metadata": {},
   "outputs": [
    {
     "data": {
      "text/plain": [
       "BOEING 747                  31\n",
       "MCDONNELL DOUGLAS MD11       6\n",
       "MCDONNELL DOUGLAS MD-11F     4\n",
       "BOEING 727-200               3\n",
       "BOEING 747-422               3\n",
       "LOCKHEED L-1011              3\n",
       "LOCKHEED P2V-7               3\n",
       "BOEING 727                   2\n",
       "BOEING 727-223               2\n",
       "BOEING 747-436               2\n",
       "Name: Make_Model, dtype: int64"
      ]
     },
     "execution_count": 246,
     "metadata": {},
     "output_type": "execute_result"
    }
   ],
   "source": [
    "flight_eng['Make_Model'].value_counts().head(10)"
   ]
  },
  {
   "cell_type": "markdown",
   "metadata": {},
   "source": [
    "Analyse the Engine Type affect the Safety"
   ]
  },
  {
   "cell_type": "code",
   "execution_count": 259,
   "metadata": {},
   "outputs": [],
   "source": [
    "df_clean_aircraft['Engine.Type'].replace(to_replace='UNK', value='Unknown', regex=True, inplace = True)"
   ]
  },
  {
   "cell_type": "code",
   "execution_count": 260,
   "metadata": {
    "scrolled": true
   },
   "outputs": [
    {
     "data": {
      "text/plain": [
       "Reciprocating      20709\n",
       "Turbo Prop          1366\n",
       "Turbo Fan            970\n",
       "Turbo Jet            158\n",
       "Unknown              153\n",
       "Geared Turbofan       12\n",
       "Turbo Shaft           11\n",
       "Electric               5\n",
       "Name: Engine.Type, dtype: int64"
      ]
     },
     "execution_count": 260,
     "metadata": {},
     "output_type": "execute_result"
    }
   ],
   "source": [
    "df_clean_aircraft['Engine.Type'].value_counts()"
   ]
  },
  {
   "cell_type": "code",
   "execution_count": 261,
   "metadata": {
    "scrolled": false
   },
   "outputs": [
    {
     "data": {
      "image/png": "[encoded data removed]",
      "text/plain": [
       "<Figure size 720x360 with 1 Axes>"
      ]
     },
     "metadata": {
      "needs_background": "light"
     },
     "output_type": "display_data"
    }
   ],
   "source": [
    "x = df_clean_aircraft['Engine.Type'].value_counts().sort_index().index\n",
    "y = df_clean_aircraft['Engine.Type'].value_counts().sort_index().values\n",
    "\n",
    "fig, ax = plt.subplots(figsize=(10,5))\n",
    "ax.bar(x,y)\n",
    "ax.set_title('Effect of Engine Types on Safety')\n",
    "ax.set_xlabel('Types of Engine Types')\n",
    "ax.set_ylabel('Number of Accidents');"
   ]
  },
  {
   "cell_type": "code",
   "execution_count": null,
   "metadata": {},
   "outputs": [],
   "source": [
    "Analyse the Weather Condition Equipment affect the Safety"
   ]
  },
  {
   "cell_type": "code",
   "execution_count": 277,
   "metadata": {},
   "outputs": [],
   "source": [
    "df_clean_aircraft['Weather.Condition'].replace(to_replace='Unk', value='UNK', regex=True, inplace = True)"
   ]
  },
  {
   "cell_type": "code",
   "execution_count": 278,
   "metadata": {},
   "outputs": [
    {
     "data": {
      "text/plain": [
       "VMC    22762\n",
       "IMC     1409\n",
       "UNK      385\n",
       "Name: Weather.Condition, dtype: int64"
      ]
     },
     "execution_count": 278,
     "metadata": {},
     "output_type": "execute_result"
    }
   ],
   "source": [
    "df_clean_aircraft['Weather.Condition'].value_counts()"
   ]
  },
  {
   "cell_type": "code",
   "execution_count": 291,
   "metadata": {},
   "outputs": [],
   "source": [
    "Broad = df_clean_aircraft.loc[df_clean_aircraft['Make']=='BOEING'][['Broad.phase.of.flight']]\n"
   ]
  },
  {
   "cell_type": "code",
   "execution_count": 292,
   "metadata": {},
   "outputs": [
    {
     "data": {
      "text/plain": [
       "Landing        29\n",
       "Taxi           18\n",
       "Takeoff        14\n",
       "Cruise         10\n",
       "Approach        9\n",
       "Climb           8\n",
       "Standing        6\n",
       "Maneuvering     5\n",
       "Descent         2\n",
       "Go-around       2\n",
       "Name: Broad.phase.of.flight, dtype: int64"
      ]
     },
     "execution_count": 292,
     "metadata": {},
     "output_type": "execute_result"
    }
   ],
   "source": [
    "Broad['Broad.phase.of.flight'].value_counts()"
   ]
  },
  {
   "cell_type": "code",
   "execution_count": 293,
   "metadata": {},
   "outputs": [],
   "source": [
    "Broad = df_clean_aircraft.loc[df_clean_aircraft['Make']=='AIRBUS'][['Broad.phase.of.flight']]"
   ]
  },
  {
   "cell_type": "code",
   "execution_count": 294,
   "metadata": {},
   "outputs": [
    {
     "data": {
      "text/plain": [
       "Taxi    2\n",
       "Name: Broad.phase.of.flight, dtype: int64"
      ]
     },
     "execution_count": 294,
     "metadata": {},
     "output_type": "execute_result"
    }
   ],
   "source": [
    "Broad['Broad.phase.of.flight'].value_counts()"
   ]
  },
  {
   "cell_type": "code",
   "execution_count": null,
   "metadata": {},
   "outputs": [],
   "source": [
    "Make_Model = df_clean_aircraft.loc[df_clean_aircraft['Number.of.Engines']>=2][['Make','Number.of.Engines',]]"
   ]
  },
  {
   "cell_type": "code",
   "execution_count": 134,
   "metadata": {},
   "outputs": [],
   "source": [
    "df_clean_aircraft['Total.Injuries'] = df_clean_aircraft['Total.Fatal.Injuries'] + df_clean_aircraft['Total.Serious.Injuries']+df_clean_aircraft['Total.Minor.Injuries']"
   ]
  },
  {
   "cell_type": "code",
   "execution_count": 135,
   "metadata": {},
   "outputs": [
    {
     "data": {
      "text/html": [
       "<div>\n",
       "<style scoped>\n",
       "    .dataframe tbody tr th:only-of-type {\n",
       "        vertical-align: middle;\n",
       "    }\n",
       "\n",
       "    .dataframe tbody tr th {\n",
       "        vertical-align: top;\n",
       "    }\n",
       "\n",
       "    .dataframe thead th {\n",
       "        text-align: right;\n",
       "    }\n",
       "</style>\n",
       "<table border=\"1\" class=\"dataframe\">\n",
       "  <thead>\n",
       "    <tr style=\"text-align: right;\">\n",
       "      <th></th>\n",
       "      <th>Event.Id</th>\n",
       "      <th>Investigation.Type</th>\n",
       "      <th>Accident.Number</th>\n",
       "      <th>Event.Date</th>\n",
       "      <th>Location</th>\n",
       "      <th>Country</th>\n",
       "      <th>Latitude</th>\n",
       "      <th>Longitude</th>\n",
       "      <th>Airport.Code</th>\n",
       "      <th>Airport.Name</th>\n",
       "      <th>...</th>\n",
       "      <th>Total.Fatal.Injuries</th>\n",
       "      <th>Total.Serious.Injuries</th>\n",
       "      <th>Total.Minor.Injuries</th>\n",
       "      <th>Total.Uninjured</th>\n",
       "      <th>Weather.Condition</th>\n",
       "      <th>Broad.phase.of.flight</th>\n",
       "      <th>Report.Status</th>\n",
       "      <th>Publication.Date</th>\n",
       "      <th>Make_Model</th>\n",
       "      <th>Total.Injuries</th>\n",
       "    </tr>\n",
       "  </thead>\n",
       "  <tbody>\n",
       "    <tr>\n",
       "      <th>5</th>\n",
       "      <td>20170710X52551</td>\n",
       "      <td>Accident</td>\n",
       "      <td>NYC79AA106</td>\n",
       "      <td>1979-09-17</td>\n",
       "      <td>BOSTON, MA</td>\n",
       "      <td>United States</td>\n",
       "      <td>42.445277</td>\n",
       "      <td>-70.758333</td>\n",
       "      <td>NaN</td>\n",
       "      <td>NaN</td>\n",
       "      <td>...</td>\n",
       "      <td>NaN</td>\n",
       "      <td>NaN</td>\n",
       "      <td>1.0</td>\n",
       "      <td>44.0</td>\n",
       "      <td>VMC</td>\n",
       "      <td>Climb</td>\n",
       "      <td>Probable Cause</td>\n",
       "      <td>19-09-2017</td>\n",
       "      <td>MCDONNELL DOUGLAS DC9</td>\n",
       "      <td>NaN</td>\n",
       "    </tr>\n",
       "    <tr>\n",
       "      <th>7</th>\n",
       "      <td>20020909X01562</td>\n",
       "      <td>Accident</td>\n",
       "      <td>SEA82DA022</td>\n",
       "      <td>1982-01-01</td>\n",
       "      <td>PULLMAN, WA</td>\n",
       "      <td>United States</td>\n",
       "      <td>NaN</td>\n",
       "      <td>NaN</td>\n",
       "      <td>NaN</td>\n",
       "      <td>BLACKBURN AG STRIP</td>\n",
       "      <td>...</td>\n",
       "      <td>0.0</td>\n",
       "      <td>0.0</td>\n",
       "      <td>0.0</td>\n",
       "      <td>2.0</td>\n",
       "      <td>VMC</td>\n",
       "      <td>Takeoff</td>\n",
       "      <td>Probable Cause</td>\n",
       "      <td>01-01-1982</td>\n",
       "      <td>CESSNA 140</td>\n",
       "      <td>0.0</td>\n",
       "    </tr>\n",
       "    <tr>\n",
       "      <th>8</th>\n",
       "      <td>20020909X01561</td>\n",
       "      <td>Accident</td>\n",
       "      <td>NYC82DA015</td>\n",
       "      <td>1982-01-01</td>\n",
       "      <td>EAST HANOVER, NJ</td>\n",
       "      <td>United States</td>\n",
       "      <td>NaN</td>\n",
       "      <td>NaN</td>\n",
       "      <td>N58</td>\n",
       "      <td>HANOVER</td>\n",
       "      <td>...</td>\n",
       "      <td>0.0</td>\n",
       "      <td>0.0</td>\n",
       "      <td>0.0</td>\n",
       "      <td>2.0</td>\n",
       "      <td>IMC</td>\n",
       "      <td>Landing</td>\n",
       "      <td>Probable Cause</td>\n",
       "      <td>01-01-1982</td>\n",
       "      <td>CESSNA 401B</td>\n",
       "      <td>0.0</td>\n",
       "    </tr>\n",
       "    <tr>\n",
       "      <th>12</th>\n",
       "      <td>20020917X02148</td>\n",
       "      <td>Accident</td>\n",
       "      <td>FTW82FRJ07</td>\n",
       "      <td>1982-01-02</td>\n",
       "      <td>HOMER, LA</td>\n",
       "      <td>United States</td>\n",
       "      <td>NaN</td>\n",
       "      <td>NaN</td>\n",
       "      <td>NaN</td>\n",
       "      <td>NaN</td>\n",
       "      <td>...</td>\n",
       "      <td>0.0</td>\n",
       "      <td>0.0</td>\n",
       "      <td>1.0</td>\n",
       "      <td>0.0</td>\n",
       "      <td>IMC</td>\n",
       "      <td>Cruise</td>\n",
       "      <td>Probable Cause</td>\n",
       "      <td>02-01-1983</td>\n",
       "      <td>BELLANCA 17-30A</td>\n",
       "      <td>1.0</td>\n",
       "    </tr>\n",
       "    <tr>\n",
       "      <th>13</th>\n",
       "      <td>20020917X02134</td>\n",
       "      <td>Accident</td>\n",
       "      <td>FTW82FRA14</td>\n",
       "      <td>1982-01-02</td>\n",
       "      <td>HEARNE, TX</td>\n",
       "      <td>United States</td>\n",
       "      <td>NaN</td>\n",
       "      <td>NaN</td>\n",
       "      <td>T72</td>\n",
       "      <td>HEARNE MUNICIPAL</td>\n",
       "      <td>...</td>\n",
       "      <td>1.0</td>\n",
       "      <td>0.0</td>\n",
       "      <td>0.0</td>\n",
       "      <td>0.0</td>\n",
       "      <td>IMC</td>\n",
       "      <td>Takeoff</td>\n",
       "      <td>Probable Cause</td>\n",
       "      <td>02-01-1983</td>\n",
       "      <td>CESSNA R172K</td>\n",
       "      <td>1.0</td>\n",
       "    </tr>\n",
       "  </tbody>\n",
       "</table>\n",
       "<p>5 rows × 33 columns</p>\n",
       "</div>"
      ],
      "text/plain": [
       "          Event.Id Investigation.Type Accident.Number  Event.Date  \\\n",
       "5   20170710X52551           Accident      NYC79AA106  1979-09-17   \n",
       "7   20020909X01562           Accident      SEA82DA022  1982-01-01   \n",
       "8   20020909X01561           Accident      NYC82DA015  1982-01-01   \n",
       "12  20020917X02148           Accident      FTW82FRJ07  1982-01-02   \n",
       "13  20020917X02134           Accident      FTW82FRA14  1982-01-02   \n",
       "\n",
       "            Location        Country   Latitude   Longitude Airport.Code  \\\n",
       "5         BOSTON, MA  United States  42.445277  -70.758333          NaN   \n",
       "7        PULLMAN, WA  United States        NaN         NaN          NaN   \n",
       "8   EAST HANOVER, NJ  United States        NaN         NaN          N58   \n",
       "12         HOMER, LA  United States        NaN         NaN          NaN   \n",
       "13        HEARNE, TX  United States        NaN         NaN          T72   \n",
       "\n",
       "          Airport.Name  ... Total.Fatal.Injuries Total.Serious.Injuries  \\\n",
       "5                  NaN  ...                  NaN                    NaN   \n",
       "7   BLACKBURN AG STRIP  ...                  0.0                    0.0   \n",
       "8              HANOVER  ...                  0.0                    0.0   \n",
       "12                 NaN  ...                  0.0                    0.0   \n",
       "13    HEARNE MUNICIPAL  ...                  1.0                    0.0   \n",
       "\n",
       "   Total.Minor.Injuries Total.Uninjured Weather.Condition  \\\n",
       "5                   1.0            44.0               VMC   \n",
       "7                   0.0             2.0               VMC   \n",
       "8                   0.0             2.0               IMC   \n",
       "12                  1.0             0.0               IMC   \n",
       "13                  0.0             0.0               IMC   \n",
       "\n",
       "   Broad.phase.of.flight   Report.Status  Publication.Date  \\\n",
       "5                  Climb  Probable Cause        19-09-2017   \n",
       "7                Takeoff  Probable Cause        01-01-1982   \n",
       "8                Landing  Probable Cause        01-01-1982   \n",
       "12                Cruise  Probable Cause        02-01-1983   \n",
       "13               Takeoff  Probable Cause        02-01-1983   \n",
       "\n",
       "               Make_Model Total.Injuries  \n",
       "5   MCDONNELL DOUGLAS DC9            NaN  \n",
       "7              CESSNA 140            0.0  \n",
       "8             CESSNA 401B            0.0  \n",
       "12        BELLANCA 17-30A            1.0  \n",
       "13           CESSNA R172K            1.0  \n",
       "\n",
       "[5 rows x 33 columns]"
      ]
     },
     "execution_count": 135,
     "metadata": {},
     "output_type": "execute_result"
    }
   ],
   "source": [
    "df_clean_aircraft.head()"
   ]
  },
  {
   "cell_type": "code",
   "execution_count": 82,
   "metadata": {
    "scrolled": true
   },
   "outputs": [
    {
     "name": "stdout",
     "output_type": "stream",
     "text": [
      "<class 'pandas.core.frame.DataFrame'>\n",
      "Int64Index: 27608 entries, 5 to 90345\n",
      "Data columns (total 32 columns):\n",
      " #   Column                  Non-Null Count  Dtype  \n",
      "---  ------                  --------------  -----  \n",
      " 0   Event.Id                27608 non-null  object \n",
      " 1   Investigation.Type      27608 non-null  object \n",
      " 2   Accident.Number         27608 non-null  object \n",
      " 3   Event.Date              27608 non-null  object \n",
      " 4   Location                27601 non-null  object \n",
      " 5   Country                 27601 non-null  object \n",
      " 6   Latitude                22091 non-null  object \n",
      " 7   Longitude               22082 non-null  object \n",
      " 8   Airport.Code            17771 non-null  object \n",
      " 9   Airport.Name            18253 non-null  object \n",
      " 10  Injury.Severity         26794 non-null  object \n",
      " 11  Aircraft.damage         26328 non-null  object \n",
      " 12  Aircraft.Category       27608 non-null  object \n",
      " 13  Registration.Number     27384 non-null  object \n",
      " 14  Make                    27608 non-null  object \n",
      " 15  Model                   27580 non-null  object \n",
      " 16  Amateur.Built           27591 non-null  object \n",
      " 17  Number.of.Engines       24856 non-null  float64\n",
      " 18  Engine.Type             23384 non-null  object \n",
      " 19  FAR.Description         27109 non-null  object \n",
      " 20  Schedule                2987 non-null   object \n",
      " 21  Purpose.of.flight       23871 non-null  object \n",
      " 22  Air.carrier             11265 non-null  object \n",
      " 23  Total.Fatal.Injuries    24444 non-null  float64\n",
      " 24  Total.Serious.Injuries  24385 non-null  float64\n",
      " 25  Total.Minor.Injuries    24732 non-null  float64\n",
      " 26  Total.Uninjured         26710 non-null  float64\n",
      " 27  Weather.Condition       24556 non-null  object \n",
      " 28  Broad.phase.of.flight   6403 non-null   object \n",
      " 29  Report.Status           22638 non-null  object \n",
      " 30  Publication.Date        25370 non-null  object \n",
      " 31  Make_Model              27580 non-null  object \n",
      "dtypes: float64(5), object(27)\n",
      "memory usage: 7.0+ MB\n"
     ]
    }
   ],
   "source": [
    "df_clean_aircraft.info()"
   ]
  },
  {
   "cell_type": "code",
   "execution_count": 302,
   "metadata": {},
   "outputs": [
    {
     "data": {
      "text/plain": [
       "7449"
      ]
     },
     "execution_count": 302,
     "metadata": {},
     "output_type": "execute_result"
    }
   ],
   "source": [
    "List_Make = df_clean.loc[df_clean['Aircraft.Category'] =='Airplane']\n",
    "List_Make = List_Make['Make_Model'].unique()\n",
    "len(List_Make)"
   ]
  },
  {
   "cell_type": "code",
   "execution_count": 303,
   "metadata": {},
   "outputs": [
    {
     "ename": "KeyError",
     "evalue": "1767",
     "output_type": "error",
     "traceback": [
      "\u001b[1;31m---------------------------------------------------------------------------\u001b[0m",
      "\u001b[1;31mKeyError\u001b[0m                                  Traceback (most recent call last)",
      "\u001b[1;32m~\\anaconda3\\envs\\learn-env\\lib\\site-packages\\pandas\\core\\indexes\\base.py\u001b[0m in \u001b[0;36mget_loc\u001b[1;34m(self, key, method, tolerance)\u001b[0m\n\u001b[0;32m   2894\u001b[0m             \u001b[1;32mtry\u001b[0m\u001b[1;33m:\u001b[0m\u001b[1;33m\u001b[0m\u001b[1;33m\u001b[0m\u001b[0m\n\u001b[1;32m-> 2895\u001b[1;33m                 \u001b[1;32mreturn\u001b[0m \u001b[0mself\u001b[0m\u001b[1;33m.\u001b[0m\u001b[0m_engine\u001b[0m\u001b[1;33m.\u001b[0m\u001b[0mget_loc\u001b[0m\u001b[1;33m(\u001b[0m\u001b[0mcasted_key\u001b[0m\u001b[1;33m)\u001b[0m\u001b[1;33m\u001b[0m\u001b[1;33m\u001b[0m\u001b[0m\n\u001b[0m\u001b[0;32m   2896\u001b[0m             \u001b[1;32mexcept\u001b[0m \u001b[0mKeyError\u001b[0m \u001b[1;32mas\u001b[0m \u001b[0merr\u001b[0m\u001b[1;33m:\u001b[0m\u001b[1;33m\u001b[0m\u001b[1;33m\u001b[0m\u001b[0m\n",
      "\u001b[1;32mpandas\\_libs\\index.pyx\u001b[0m in \u001b[0;36mpandas._libs.index.IndexEngine.get_loc\u001b[1;34m()\u001b[0m\n",
      "\u001b[1;32mpandas\\_libs\\index.pyx\u001b[0m in \u001b[0;36mpandas._libs.index.IndexEngine.get_loc\u001b[1;34m()\u001b[0m\n",
      "\u001b[1;32mpandas\\_libs\\hashtable_class_helper.pxi\u001b[0m in \u001b[0;36mpandas._libs.hashtable.Int64HashTable.get_item\u001b[1;34m()\u001b[0m\n",
      "\u001b[1;32mpandas\\_libs\\hashtable_class_helper.pxi\u001b[0m in \u001b[0;36mpandas._libs.hashtable.Int64HashTable.get_item\u001b[1;34m()\u001b[0m\n",
      "\u001b[1;31mKeyError\u001b[0m: 1767",
      "\nThe above exception was the direct cause of the following exception:\n",
      "\u001b[1;31mKeyError\u001b[0m                                  Traceback (most recent call last)",
      "\u001b[1;32m<ipython-input-303-9ca719997681>\u001b[0m in \u001b[0;36m<module>\u001b[1;34m\u001b[0m\n\u001b[0;32m      2\u001b[0m \u001b[1;32mfor\u001b[0m \u001b[0mitem\u001b[0m \u001b[1;32min\u001b[0m \u001b[0mList_Make\u001b[0m\u001b[1;33m:\u001b[0m\u001b[1;33m\u001b[0m\u001b[1;33m\u001b[0m\u001b[0m\n\u001b[0;32m      3\u001b[0m     \u001b[1;32mfor\u001b[0m \u001b[0mrow\u001b[0m \u001b[1;32min\u001b[0m \u001b[0mrange\u001b[0m\u001b[1;33m(\u001b[0m\u001b[0mrow_index\u001b[0m\u001b[1;33m)\u001b[0m\u001b[1;33m:\u001b[0m\u001b[1;33m\u001b[0m\u001b[1;33m\u001b[0m\u001b[0m\n\u001b[1;32m----> 4\u001b[1;33m         \u001b[1;32mif\u001b[0m \u001b[1;33m(\u001b[0m\u001b[0mdf_clean\u001b[0m\u001b[1;33m[\u001b[0m\u001b[1;34m'Aircraft.Category'\u001b[0m\u001b[1;33m]\u001b[0m\u001b[1;33m.\u001b[0m\u001b[0misnull\u001b[0m\u001b[1;33m(\u001b[0m\u001b[1;33m)\u001b[0m\u001b[1;33m.\u001b[0m\u001b[0mloc\u001b[0m\u001b[1;33m[\u001b[0m\u001b[0mrow\u001b[0m\u001b[1;33m]\u001b[0m\u001b[1;33m)\u001b[0m \u001b[1;33m&\u001b[0m \u001b[1;33m(\u001b[0m\u001b[0mdf_clean\u001b[0m\u001b[1;33m[\u001b[0m\u001b[1;34m'Make_Model'\u001b[0m\u001b[1;33m]\u001b[0m\u001b[1;33m.\u001b[0m\u001b[0mloc\u001b[0m\u001b[1;33m[\u001b[0m\u001b[0mrow\u001b[0m\u001b[1;33m]\u001b[0m \u001b[1;33m==\u001b[0m \u001b[0mitem\u001b[0m\u001b[1;33m)\u001b[0m\u001b[1;33m:\u001b[0m\u001b[1;33m\u001b[0m\u001b[1;33m\u001b[0m\u001b[0m\n\u001b[0m\u001b[0;32m      5\u001b[0m             \u001b[0mdf_clean\u001b[0m\u001b[1;33m.\u001b[0m\u001b[0mloc\u001b[0m\u001b[1;33m[\u001b[0m\u001b[0mrow\u001b[0m\u001b[1;33m,\u001b[0m\u001b[1;34m'Aircraft.Category'\u001b[0m\u001b[1;33m]\u001b[0m\u001b[1;33m=\u001b[0m\u001b[1;34m'Airplane'\u001b[0m\u001b[1;33m\u001b[0m\u001b[1;33m\u001b[0m\u001b[0m\n",
      "\u001b[1;32m~\\anaconda3\\envs\\learn-env\\lib\\site-packages\\pandas\\core\\indexing.py\u001b[0m in \u001b[0;36m__getitem__\u001b[1;34m(self, key)\u001b[0m\n\u001b[0;32m    877\u001b[0m \u001b[1;33m\u001b[0m\u001b[0m\n\u001b[0;32m    878\u001b[0m             \u001b[0mmaybe_callable\u001b[0m \u001b[1;33m=\u001b[0m \u001b[0mcom\u001b[0m\u001b[1;33m.\u001b[0m\u001b[0mapply_if_callable\u001b[0m\u001b[1;33m(\u001b[0m\u001b[0mkey\u001b[0m\u001b[1;33m,\u001b[0m \u001b[0mself\u001b[0m\u001b[1;33m.\u001b[0m\u001b[0mobj\u001b[0m\u001b[1;33m)\u001b[0m\u001b[1;33m\u001b[0m\u001b[1;33m\u001b[0m\u001b[0m\n\u001b[1;32m--> 879\u001b[1;33m             \u001b[1;32mreturn\u001b[0m \u001b[0mself\u001b[0m\u001b[1;33m.\u001b[0m\u001b[0m_getitem_axis\u001b[0m\u001b[1;33m(\u001b[0m\u001b[0mmaybe_callable\u001b[0m\u001b[1;33m,\u001b[0m \u001b[0maxis\u001b[0m\u001b[1;33m=\u001b[0m\u001b[0maxis\u001b[0m\u001b[1;33m)\u001b[0m\u001b[1;33m\u001b[0m\u001b[1;33m\u001b[0m\u001b[0m\n\u001b[0m\u001b[0;32m    880\u001b[0m \u001b[1;33m\u001b[0m\u001b[0m\n\u001b[0;32m    881\u001b[0m     \u001b[1;32mdef\u001b[0m \u001b[0m_is_scalar_access\u001b[0m\u001b[1;33m(\u001b[0m\u001b[0mself\u001b[0m\u001b[1;33m,\u001b[0m \u001b[0mkey\u001b[0m\u001b[1;33m:\u001b[0m \u001b[0mTuple\u001b[0m\u001b[1;33m)\u001b[0m\u001b[1;33m:\u001b[0m\u001b[1;33m\u001b[0m\u001b[1;33m\u001b[0m\u001b[0m\n",
      "\u001b[1;32m~\\anaconda3\\envs\\learn-env\\lib\\site-packages\\pandas\\core\\indexing.py\u001b[0m in \u001b[0;36m_getitem_axis\u001b[1;34m(self, key, axis)\u001b[0m\n\u001b[0;32m   1108\u001b[0m         \u001b[1;31m# fall thru to straight lookup\u001b[0m\u001b[1;33m\u001b[0m\u001b[1;33m\u001b[0m\u001b[1;33m\u001b[0m\u001b[0m\n\u001b[0;32m   1109\u001b[0m         \u001b[0mself\u001b[0m\u001b[1;33m.\u001b[0m\u001b[0m_validate_key\u001b[0m\u001b[1;33m(\u001b[0m\u001b[0mkey\u001b[0m\u001b[1;33m,\u001b[0m \u001b[0maxis\u001b[0m\u001b[1;33m)\u001b[0m\u001b[1;33m\u001b[0m\u001b[1;33m\u001b[0m\u001b[0m\n\u001b[1;32m-> 1110\u001b[1;33m         \u001b[1;32mreturn\u001b[0m \u001b[0mself\u001b[0m\u001b[1;33m.\u001b[0m\u001b[0m_get_label\u001b[0m\u001b[1;33m(\u001b[0m\u001b[0mkey\u001b[0m\u001b[1;33m,\u001b[0m \u001b[0maxis\u001b[0m\u001b[1;33m=\u001b[0m\u001b[0maxis\u001b[0m\u001b[1;33m)\u001b[0m\u001b[1;33m\u001b[0m\u001b[1;33m\u001b[0m\u001b[0m\n\u001b[0m\u001b[0;32m   1111\u001b[0m \u001b[1;33m\u001b[0m\u001b[0m\n\u001b[0;32m   1112\u001b[0m     \u001b[1;32mdef\u001b[0m \u001b[0m_get_slice_axis\u001b[0m\u001b[1;33m(\u001b[0m\u001b[0mself\u001b[0m\u001b[1;33m,\u001b[0m \u001b[0mslice_obj\u001b[0m\u001b[1;33m:\u001b[0m \u001b[0mslice\u001b[0m\u001b[1;33m,\u001b[0m \u001b[0maxis\u001b[0m\u001b[1;33m:\u001b[0m \u001b[0mint\u001b[0m\u001b[1;33m)\u001b[0m\u001b[1;33m:\u001b[0m\u001b[1;33m\u001b[0m\u001b[1;33m\u001b[0m\u001b[0m\n",
      "\u001b[1;32m~\\anaconda3\\envs\\learn-env\\lib\\site-packages\\pandas\\core\\indexing.py\u001b[0m in \u001b[0;36m_get_label\u001b[1;34m(self, label, axis)\u001b[0m\n\u001b[0;32m   1057\u001b[0m     \u001b[1;32mdef\u001b[0m \u001b[0m_get_label\u001b[0m\u001b[1;33m(\u001b[0m\u001b[0mself\u001b[0m\u001b[1;33m,\u001b[0m \u001b[0mlabel\u001b[0m\u001b[1;33m,\u001b[0m \u001b[0maxis\u001b[0m\u001b[1;33m:\u001b[0m \u001b[0mint\u001b[0m\u001b[1;33m)\u001b[0m\u001b[1;33m:\u001b[0m\u001b[1;33m\u001b[0m\u001b[1;33m\u001b[0m\u001b[0m\n\u001b[0;32m   1058\u001b[0m         \u001b[1;31m# GH#5667 this will fail if the label is not present in the axis.\u001b[0m\u001b[1;33m\u001b[0m\u001b[1;33m\u001b[0m\u001b[1;33m\u001b[0m\u001b[0m\n\u001b[1;32m-> 1059\u001b[1;33m         \u001b[1;32mreturn\u001b[0m \u001b[0mself\u001b[0m\u001b[1;33m.\u001b[0m\u001b[0mobj\u001b[0m\u001b[1;33m.\u001b[0m\u001b[0mxs\u001b[0m\u001b[1;33m(\u001b[0m\u001b[0mlabel\u001b[0m\u001b[1;33m,\u001b[0m \u001b[0maxis\u001b[0m\u001b[1;33m=\u001b[0m\u001b[0maxis\u001b[0m\u001b[1;33m)\u001b[0m\u001b[1;33m\u001b[0m\u001b[1;33m\u001b[0m\u001b[0m\n\u001b[0m\u001b[0;32m   1060\u001b[0m \u001b[1;33m\u001b[0m\u001b[0m\n\u001b[0;32m   1061\u001b[0m     \u001b[1;32mdef\u001b[0m \u001b[0m_handle_lowerdim_multi_index_axis0\u001b[0m\u001b[1;33m(\u001b[0m\u001b[0mself\u001b[0m\u001b[1;33m,\u001b[0m \u001b[0mtup\u001b[0m\u001b[1;33m:\u001b[0m \u001b[0mTuple\u001b[0m\u001b[1;33m)\u001b[0m\u001b[1;33m:\u001b[0m\u001b[1;33m\u001b[0m\u001b[1;33m\u001b[0m\u001b[0m\n",
      "\u001b[1;32m~\\anaconda3\\envs\\learn-env\\lib\\site-packages\\pandas\\core\\generic.py\u001b[0m in \u001b[0;36mxs\u001b[1;34m(self, key, axis, level, drop_level)\u001b[0m\n\u001b[0;32m   3489\u001b[0m             \u001b[0mloc\u001b[0m\u001b[1;33m,\u001b[0m \u001b[0mnew_index\u001b[0m \u001b[1;33m=\u001b[0m \u001b[0mself\u001b[0m\u001b[1;33m.\u001b[0m\u001b[0mindex\u001b[0m\u001b[1;33m.\u001b[0m\u001b[0mget_loc_level\u001b[0m\u001b[1;33m(\u001b[0m\u001b[0mkey\u001b[0m\u001b[1;33m,\u001b[0m \u001b[0mdrop_level\u001b[0m\u001b[1;33m=\u001b[0m\u001b[0mdrop_level\u001b[0m\u001b[1;33m)\u001b[0m\u001b[1;33m\u001b[0m\u001b[1;33m\u001b[0m\u001b[0m\n\u001b[0;32m   3490\u001b[0m         \u001b[1;32melse\u001b[0m\u001b[1;33m:\u001b[0m\u001b[1;33m\u001b[0m\u001b[1;33m\u001b[0m\u001b[0m\n\u001b[1;32m-> 3491\u001b[1;33m             \u001b[0mloc\u001b[0m \u001b[1;33m=\u001b[0m \u001b[0mself\u001b[0m\u001b[1;33m.\u001b[0m\u001b[0mindex\u001b[0m\u001b[1;33m.\u001b[0m\u001b[0mget_loc\u001b[0m\u001b[1;33m(\u001b[0m\u001b[0mkey\u001b[0m\u001b[1;33m)\u001b[0m\u001b[1;33m\u001b[0m\u001b[1;33m\u001b[0m\u001b[0m\n\u001b[0m\u001b[0;32m   3492\u001b[0m \u001b[1;33m\u001b[0m\u001b[0m\n\u001b[0;32m   3493\u001b[0m             \u001b[1;32mif\u001b[0m \u001b[0misinstance\u001b[0m\u001b[1;33m(\u001b[0m\u001b[0mloc\u001b[0m\u001b[1;33m,\u001b[0m \u001b[0mnp\u001b[0m\u001b[1;33m.\u001b[0m\u001b[0mndarray\u001b[0m\u001b[1;33m)\u001b[0m\u001b[1;33m:\u001b[0m\u001b[1;33m\u001b[0m\u001b[1;33m\u001b[0m\u001b[0m\n",
      "\u001b[1;32m~\\anaconda3\\envs\\learn-env\\lib\\site-packages\\pandas\\core\\indexes\\base.py\u001b[0m in \u001b[0;36mget_loc\u001b[1;34m(self, key, method, tolerance)\u001b[0m\n\u001b[0;32m   2895\u001b[0m                 \u001b[1;32mreturn\u001b[0m \u001b[0mself\u001b[0m\u001b[1;33m.\u001b[0m\u001b[0m_engine\u001b[0m\u001b[1;33m.\u001b[0m\u001b[0mget_loc\u001b[0m\u001b[1;33m(\u001b[0m\u001b[0mcasted_key\u001b[0m\u001b[1;33m)\u001b[0m\u001b[1;33m\u001b[0m\u001b[1;33m\u001b[0m\u001b[0m\n\u001b[0;32m   2896\u001b[0m             \u001b[1;32mexcept\u001b[0m \u001b[0mKeyError\u001b[0m \u001b[1;32mas\u001b[0m \u001b[0merr\u001b[0m\u001b[1;33m:\u001b[0m\u001b[1;33m\u001b[0m\u001b[1;33m\u001b[0m\u001b[0m\n\u001b[1;32m-> 2897\u001b[1;33m                 \u001b[1;32mraise\u001b[0m \u001b[0mKeyError\u001b[0m\u001b[1;33m(\u001b[0m\u001b[0mkey\u001b[0m\u001b[1;33m)\u001b[0m \u001b[1;32mfrom\u001b[0m \u001b[0merr\u001b[0m\u001b[1;33m\u001b[0m\u001b[1;33m\u001b[0m\u001b[0m\n\u001b[0m\u001b[0;32m   2898\u001b[0m \u001b[1;33m\u001b[0m\u001b[0m\n\u001b[0;32m   2899\u001b[0m         \u001b[1;32mif\u001b[0m \u001b[0mtolerance\u001b[0m \u001b[1;32mis\u001b[0m \u001b[1;32mnot\u001b[0m \u001b[1;32mNone\u001b[0m\u001b[1;33m:\u001b[0m\u001b[1;33m\u001b[0m\u001b[1;33m\u001b[0m\u001b[0m\n",
      "\u001b[1;31mKeyError\u001b[0m: 1767"
     ]
    }
   ],
   "source": [
    "row_index = len(df_clean)\n",
    "for item in List_Make:\n",
    "    for row in range(row_index):\n",
    "        if (df_clean['Aircraft.Category'].isnull().loc[row]) & (df_clean['Make_Model'].loc[row] == item):\n",
    "            df_clean.loc[row,'Aircraft.Category']='Airplane'  \n"
   ]
  },
  {
   "cell_type": "code",
   "execution_count": 304,
   "metadata": {},
   "outputs": [
    {
     "name": "stderr",
     "output_type": "stream",
     "text": [
      "C:\\Users\\yasit\\anaconda3\\envs\\learn-env\\lib\\site-packages\\pandas\\core\\indexing.py:1765: SettingWithCopyWarning: \n",
      "A value is trying to be set on a copy of a slice from a DataFrame.\n",
      "Try using .loc[row_indexer,col_indexer] = value instead\n",
      "\n",
      "See the caveats in the documentation: https://pandas.pydata.org/pandas-docs/stable/user_guide/indexing.html#returning-a-view-versus-a-copy\n",
      "  isetter(loc, value)\n"
     ]
    }
   ],
   "source": [
    "mask = (df_clean['Aircraft.Category'].isnull()) & (df_clean['Make_Model'].isin(List_Make))\n",
    "df_clean.loc[mask, 'Aircraft.Category'] = 'Airplane'"
   ]
  },
  {
   "cell_type": "code",
   "execution_count": 306,
   "metadata": {},
   "outputs": [
    {
     "data": {
      "text/plain": [
       "Airplane             68063\n",
       "Helicopter            3437\n",
       "Glider                 508\n",
       "Balloon                231\n",
       "Gyrocraft              173\n",
       "Weight-Shift           161\n",
       "Powered Parachute       91\n",
       "Ultralight              30\n",
       "Unknown                 14\n",
       "WSFT                     9\n",
       "Powered-Lift             5\n",
       "Blimp                    4\n",
       "UNK                      2\n",
       "Rocket                   1\n",
       "ULTR                     1\n",
       "Name: Aircraft.Category, dtype: int64"
      ]
     },
     "execution_count": 306,
     "metadata": {},
     "output_type": "execute_result"
    }
   ],
   "source": [
    "df_clean['Aircraft.Category'].value_counts()"
   ]
  },
  {
   "cell_type": "code",
   "execution_count": 307,
   "metadata": {},
   "outputs": [
    {
     "ename": "ModuleNotFoundError",
     "evalue": "No module named 'fuzzywuzzy'",
     "output_type": "error",
     "traceback": [
      "\u001b[1;31m---------------------------------------------------------------------------\u001b[0m",
      "\u001b[1;31mModuleNotFoundError\u001b[0m                       Traceback (most recent call last)",
      "\u001b[1;32m<ipython-input-307-1019dcd18b28>\u001b[0m in \u001b[0;36m<module>\u001b[1;34m\u001b[0m\n\u001b[0;32m      1\u001b[0m \u001b[1;32mimport\u001b[0m \u001b[0mpandas\u001b[0m \u001b[1;32mas\u001b[0m \u001b[0mpd\u001b[0m\u001b[1;33m\u001b[0m\u001b[1;33m\u001b[0m\u001b[0m\n\u001b[1;32m----> 2\u001b[1;33m \u001b[1;32mfrom\u001b[0m \u001b[0mfuzzywuzzy\u001b[0m \u001b[1;32mimport\u001b[0m \u001b[0mfuzz\u001b[0m\u001b[1;33m\u001b[0m\u001b[1;33m\u001b[0m\u001b[0m\n\u001b[0m\u001b[0;32m      3\u001b[0m \u001b[1;33m\u001b[0m\u001b[0m\n\u001b[0;32m      4\u001b[0m \u001b[0mdf1\u001b[0m \u001b[1;33m=\u001b[0m \u001b[0mpd\u001b[0m\u001b[1;33m.\u001b[0m\u001b[0mDataFrame\u001b[0m\u001b[1;33m(\u001b[0m\u001b[1;33m{\u001b[0m\u001b[1;34m'name'\u001b[0m\u001b[1;33m:\u001b[0m \u001b[1;33m[\u001b[0m\u001b[1;34m'John Doe'\u001b[0m\u001b[1;33m,\u001b[0m \u001b[1;34m'Jane Doe'\u001b[0m\u001b[1;33m,\u001b[0m \u001b[1;34m'John Smith'\u001b[0m\u001b[1;33m]\u001b[0m\u001b[1;33m}\u001b[0m\u001b[1;33m)\u001b[0m\u001b[1;33m\u001b[0m\u001b[1;33m\u001b[0m\u001b[0m\n\u001b[0;32m      5\u001b[0m \u001b[1;33m\u001b[0m\u001b[0m\n",
      "\u001b[1;31mModuleNotFoundError\u001b[0m: No module named 'fuzzywuzzy'"
     ]
    }
   ],
   "source": [
    "import pandas as pd\n",
    "from fuzzywuzzy import fuzz\n",
    "\n",
    "df1 = pd.DataFrame({'name': ['John Doe', 'Jane Doe', 'John Smith']})\n",
    "\n",
    "# Find the closest match for each name in the dataframe\n",
    "for name in df['name']:\n",
    "   closest_match = fuzz.partial_ratio(name, df1['name'].values)\n",
    "   print(name, closest_match)"
   ]
  },
  {
   "cell_type": "code",
   "execution_count": 311,
   "metadata": {},
   "outputs": [
    {
     "ename": "ModuleNotFoundError",
     "evalue": "No module named 'fuzzywuzzy'",
     "output_type": "error",
     "traceback": [
      "\u001b[1;31m---------------------------------------------------------------------------\u001b[0m",
      "\u001b[1;31mModuleNotFoundError\u001b[0m                       Traceback (most recent call last)",
      "\u001b[1;32m<ipython-input-311-87fc5283deef>\u001b[0m in \u001b[0;36m<module>\u001b[1;34m\u001b[0m\n\u001b[0;32m      1\u001b[0m \u001b[1;32mimport\u001b[0m \u001b[0mpandas\u001b[0m \u001b[1;32mas\u001b[0m \u001b[0mpd\u001b[0m\u001b[1;33m\u001b[0m\u001b[1;33m\u001b[0m\u001b[0m\n\u001b[1;32m----> 2\u001b[1;33m \u001b[1;32mfrom\u001b[0m \u001b[0mfuzzywuzzy\u001b[0m \u001b[1;32mimport\u001b[0m \u001b[0mfuzz\u001b[0m\u001b[1;33m\u001b[0m\u001b[1;33m\u001b[0m\u001b[0m\n\u001b[0m\u001b[0;32m      3\u001b[0m \u001b[1;33m\u001b[0m\u001b[0m\n\u001b[0;32m      4\u001b[0m \u001b[1;31m# Sample data\u001b[0m\u001b[1;33m\u001b[0m\u001b[1;33m\u001b[0m\u001b[1;33m\u001b[0m\u001b[0m\n\u001b[0;32m      5\u001b[0m data = {\n",
      "\u001b[1;31mModuleNotFoundError\u001b[0m: No module named 'fuzzywuzzy'"
     ]
    }
   ],
   "source": [
    "import pandas as pd\n",
    "from fuzzywuzzy import fuzz\n",
    "\n",
    "# Sample data\n",
    "data = {\n",
    "'column_name': ['apple', 'appel', 'banana', 'aple', 'banan', 'oranje', 'orange'],\n",
    "'another_column': [1, 2, 3, 4, 5, 6, 7]\n",
    "}\n",
    "df1 = pd.DataFrame(data)\n",
    "\n",
    "def fuzzy_filter(df1, column_name, target_string, threshold=85):\n",
    "    \"\"\"Filter rows in a dataframe based on a fuzzy match to a target string in a specific column.\"\"\"\n",
    "    return df1[df1[column_name].apply(lambda x: fuzz.ratio(x, target_string) >= threshold)]\n",
    "\n",
    "target = 'apple'\n",
    "filtered_df = fuzzy_filter(df1, 'column_name', target)\n",
    "\n",
    "print(filtered_df)"
   ]
  },
  {
   "cell_type": "code",
   "execution_count": 323,
   "metadata": {},
   "outputs": [
    {
     "name": "stdout",
     "output_type": "stream",
     "text": [
      "Empty DataFrame\n",
      "Columns: [Event.Id, Investigation.Type, Accident.Number, Event.Date, Location, Country, Latitude, Longitude, Airport.Code, Airport.Name, Injury.Severity, Aircraft.damage, Aircraft.Category, Registration.Number, Make, Model, Amateur.Built, Number.of.Engines, Engine.Type, FAR.Description, Schedule, Purpose.of.flight, Air.carrier, Total.Fatal.Injuries, Total.Serious.Injuries, Total.Minor.Injuries, Total.Uninjured, Weather.Condition, Broad.phase.of.flight, Report.Status, Publication.Date, Make_Model]\n",
      "Index: []\n",
      "\n",
      "[0 rows x 32 columns]\n"
     ]
    },
    {
     "name": "stderr",
     "output_type": "stream",
     "text": [
      "<ipython-input-323-31478f50d0c8>:10: UserWarning: Boolean Series key will be reindexed to match DataFrame index.\n",
      "  return df[~df['Report.Status'].isnull()][df['Report.Status'].apply(match_ratio) >= threshold]\n"
     ]
    }
   ],
   "source": [
    "import pandas as pd\n",
    "import difflib\n",
    "\n",
    "\n",
    "def fuzzy_filter_difflib(df, column_name, target_string, threshold=0.4):\n",
    "   \"\"\"Filter rows in a dataframe based on a fuzzy match to a target string in a specific column using difflib.\"\"\"\n",
    "   def match_ratio(x):\n",
    "      return difflib.SequenceMatcher(None, str(x), target_string).ratio()\n",
    "\n",
    "   return df[~df['Report.Status'].isnull()][df['Report.Status'].apply(match_ratio) >= threshold]\n",
    "\n",
    "target = 'Pilot'\n",
    "filtered_df = fuzzy_filter_difflib(df_clean, 'Report.Status', target)\n",
    "\n",
    "print(filtered_df)"
   ]
  },
  {
   "cell_type": "code",
   "execution_count": null,
   "metadata": {},
   "outputs": [],
   "source": []
  }
 ],
 "metadata": {
  "kernelspec": {
   "display_name": "Python (learn-env)",
   "language": "python",
   "name": "learn-env"
  },
  "language_info": {
   "codemirror_mode": {
    "name": "ipython",
    "version": 3
   },
   "file_extension": ".py",
   "mimetype": "text/x-python",
   "name": "python",
   "nbconvert_exporter": "python",
   "pygments_lexer": "ipython3",
   "version": "3.8.5"
  }
 },
 "nbformat": 4,
 "nbformat_minor": 4
}
